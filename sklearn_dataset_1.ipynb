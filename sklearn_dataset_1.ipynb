{
 "cells": [
  {
   "cell_type": "markdown",
   "id": "368c296a",
   "metadata": {},
   "source": [
    "# Data science training (sklearn 'diabetes' dataset)"
   ]
  },
  {
   "cell_type": "code",
   "execution_count": 1,
   "id": "ac4d975f",
   "metadata": {},
   "outputs": [],
   "source": [
    "from sklearn.datasets import load_diabetes\n",
    "import numpy as np\n",
    "import pandas as pd"
   ]
  },
  {
   "cell_type": "markdown",
   "id": "70bd78a7",
   "metadata": {},
   "source": [
    "## Dataset import"
   ]
  },
  {
   "cell_type": "code",
   "execution_count": 2,
   "id": "548ccbf4",
   "metadata": {},
   "outputs": [],
   "source": [
    "dataset = load_diabetes()"
   ]
  },
  {
   "cell_type": "code",
   "execution_count": 3,
   "id": "12ae5981",
   "metadata": {},
   "outputs": [
    {
     "name": "stdout",
     "output_type": "stream",
     "text": [
      ".. _diabetes_dataset:\n",
      "\n",
      "Diabetes dataset\n",
      "----------------\n",
      "\n",
      "Ten baseline variables, age, sex, body mass index, average blood\n",
      "pressure, and six blood serum measurements were obtained for each of n =\n",
      "442 diabetes patients, as well as the response of interest, a\n",
      "quantitative measure of disease progression one year after baseline.\n",
      "\n",
      "**Data Set Characteristics:**\n",
      "\n",
      "  :Number of Instances: 442\n",
      "\n",
      "  :Number of Attributes: First 10 columns are numeric predictive values\n",
      "\n",
      "  :Target: Column 11 is a quantitative measure of disease progression one year after baseline\n",
      "\n",
      "  :Attribute Information:\n",
      "      - age     age in years\n",
      "      - sex\n",
      "      - bmi     body mass index\n",
      "      - bp      average blood pressure\n",
      "      - s1      tc, total serum cholesterol\n",
      "      - s2      ldl, low-density lipoproteins\n",
      "      - s3      hdl, high-density lipoproteins\n",
      "      - s4      tch, total cholesterol / HDL\n",
      "      - s5      ltg, possibly log of serum triglycerides level\n",
      "      - s6      glu, blood sugar level\n",
      "\n",
      "Note: Each of these 10 feature variables have been mean centered and scaled by the standard deviation times `n_samples` (i.e. the sum of squares of each column totals 1).\n",
      "\n",
      "Source URL:\n",
      "https://www4.stat.ncsu.edu/~boos/var.select/diabetes.html\n",
      "\n",
      "For more information see:\n",
      "Bradley Efron, Trevor Hastie, Iain Johnstone and Robert Tibshirani (2004) \"Least Angle Regression,\" Annals of Statistics (with discussion), 407-499.\n",
      "(https://web.stanford.edu/~hastie/Papers/LARS/LeastAngle_2002.pdf)\n"
     ]
    }
   ],
   "source": [
    "print(dataset.DESCR)"
   ]
  },
  {
   "cell_type": "code",
   "execution_count": 4,
   "id": "d0ff4218",
   "metadata": {},
   "outputs": [
    {
     "data": {
      "text/plain": [
       "dict_keys(['data', 'target', 'frame', 'DESCR', 'feature_names', 'data_filename', 'target_filename'])"
      ]
     },
     "execution_count": 4,
     "metadata": {},
     "output_type": "execute_result"
    }
   ],
   "source": [
    "dataset.keys()"
   ]
  },
  {
   "cell_type": "code",
   "execution_count": 5,
   "id": "972451cb",
   "metadata": {},
   "outputs": [
    {
     "name": "stdout",
     "output_type": "stream",
     "text": [
      "['age', 'sex', 'bmi', 'bp', 's1', 's2', 's3', 's4', 's5', 's6']\n"
     ]
    }
   ],
   "source": [
    "print(dataset.feature_names)"
   ]
  },
  {
   "cell_type": "code",
   "execution_count": 6,
   "id": "ee1b4be4",
   "metadata": {},
   "outputs": [],
   "source": [
    "df = pd.DataFrame(dataset.data, columns=dataset.feature_names)"
   ]
  },
  {
   "cell_type": "code",
   "execution_count": 7,
   "id": "8e9c4ffc",
   "metadata": {},
   "outputs": [
    {
     "data": {
      "text/html": [
       "<div>\n",
       "<style scoped>\n",
       "    .dataframe tbody tr th:only-of-type {\n",
       "        vertical-align: middle;\n",
       "    }\n",
       "\n",
       "    .dataframe tbody tr th {\n",
       "        vertical-align: top;\n",
       "    }\n",
       "\n",
       "    .dataframe thead th {\n",
       "        text-align: right;\n",
       "    }\n",
       "</style>\n",
       "<table border=\"1\" class=\"dataframe\">\n",
       "  <thead>\n",
       "    <tr style=\"text-align: right;\">\n",
       "      <th></th>\n",
       "      <th>age</th>\n",
       "      <th>sex</th>\n",
       "      <th>bmi</th>\n",
       "      <th>bp</th>\n",
       "      <th>s1</th>\n",
       "      <th>s2</th>\n",
       "      <th>s3</th>\n",
       "      <th>s4</th>\n",
       "      <th>s5</th>\n",
       "      <th>s6</th>\n",
       "    </tr>\n",
       "  </thead>\n",
       "  <tbody>\n",
       "    <tr>\n",
       "      <th>0</th>\n",
       "      <td>0.038076</td>\n",
       "      <td>0.050680</td>\n",
       "      <td>0.061696</td>\n",
       "      <td>0.021872</td>\n",
       "      <td>-0.044223</td>\n",
       "      <td>-0.034821</td>\n",
       "      <td>-0.043401</td>\n",
       "      <td>-0.002592</td>\n",
       "      <td>0.019908</td>\n",
       "      <td>-0.017646</td>\n",
       "    </tr>\n",
       "    <tr>\n",
       "      <th>1</th>\n",
       "      <td>-0.001882</td>\n",
       "      <td>-0.044642</td>\n",
       "      <td>-0.051474</td>\n",
       "      <td>-0.026328</td>\n",
       "      <td>-0.008449</td>\n",
       "      <td>-0.019163</td>\n",
       "      <td>0.074412</td>\n",
       "      <td>-0.039493</td>\n",
       "      <td>-0.068330</td>\n",
       "      <td>-0.092204</td>\n",
       "    </tr>\n",
       "    <tr>\n",
       "      <th>2</th>\n",
       "      <td>0.085299</td>\n",
       "      <td>0.050680</td>\n",
       "      <td>0.044451</td>\n",
       "      <td>-0.005671</td>\n",
       "      <td>-0.045599</td>\n",
       "      <td>-0.034194</td>\n",
       "      <td>-0.032356</td>\n",
       "      <td>-0.002592</td>\n",
       "      <td>0.002864</td>\n",
       "      <td>-0.025930</td>\n",
       "    </tr>\n",
       "    <tr>\n",
       "      <th>3</th>\n",
       "      <td>-0.089063</td>\n",
       "      <td>-0.044642</td>\n",
       "      <td>-0.011595</td>\n",
       "      <td>-0.036656</td>\n",
       "      <td>0.012191</td>\n",
       "      <td>0.024991</td>\n",
       "      <td>-0.036038</td>\n",
       "      <td>0.034309</td>\n",
       "      <td>0.022692</td>\n",
       "      <td>-0.009362</td>\n",
       "    </tr>\n",
       "    <tr>\n",
       "      <th>4</th>\n",
       "      <td>0.005383</td>\n",
       "      <td>-0.044642</td>\n",
       "      <td>-0.036385</td>\n",
       "      <td>0.021872</td>\n",
       "      <td>0.003935</td>\n",
       "      <td>0.015596</td>\n",
       "      <td>0.008142</td>\n",
       "      <td>-0.002592</td>\n",
       "      <td>-0.031991</td>\n",
       "      <td>-0.046641</td>\n",
       "    </tr>\n",
       "  </tbody>\n",
       "</table>\n",
       "</div>"
      ],
      "text/plain": [
       "        age       sex       bmi        bp        s1        s2        s3  \\\n",
       "0  0.038076  0.050680  0.061696  0.021872 -0.044223 -0.034821 -0.043401   \n",
       "1 -0.001882 -0.044642 -0.051474 -0.026328 -0.008449 -0.019163  0.074412   \n",
       "2  0.085299  0.050680  0.044451 -0.005671 -0.045599 -0.034194 -0.032356   \n",
       "3 -0.089063 -0.044642 -0.011595 -0.036656  0.012191  0.024991 -0.036038   \n",
       "4  0.005383 -0.044642 -0.036385  0.021872  0.003935  0.015596  0.008142   \n",
       "\n",
       "         s4        s5        s6  \n",
       "0 -0.002592  0.019908 -0.017646  \n",
       "1 -0.039493 -0.068330 -0.092204  \n",
       "2 -0.002592  0.002864 -0.025930  \n",
       "3  0.034309  0.022692 -0.009362  \n",
       "4 -0.002592 -0.031991 -0.046641  "
      ]
     },
     "execution_count": 7,
     "metadata": {},
     "output_type": "execute_result"
    }
   ],
   "source": [
    "df.head()"
   ]
  },
  {
   "cell_type": "code",
   "execution_count": 8,
   "id": "e0cd5a52",
   "metadata": {},
   "outputs": [],
   "source": [
    "df[\"disease_progression\"] = dataset.target"
   ]
  },
  {
   "cell_type": "code",
   "execution_count": 9,
   "id": "7b360fda",
   "metadata": {},
   "outputs": [
    {
     "data": {
      "text/html": [
       "<div>\n",
       "<style scoped>\n",
       "    .dataframe tbody tr th:only-of-type {\n",
       "        vertical-align: middle;\n",
       "    }\n",
       "\n",
       "    .dataframe tbody tr th {\n",
       "        vertical-align: top;\n",
       "    }\n",
       "\n",
       "    .dataframe thead th {\n",
       "        text-align: right;\n",
       "    }\n",
       "</style>\n",
       "<table border=\"1\" class=\"dataframe\">\n",
       "  <thead>\n",
       "    <tr style=\"text-align: right;\">\n",
       "      <th></th>\n",
       "      <th>age</th>\n",
       "      <th>sex</th>\n",
       "      <th>bmi</th>\n",
       "      <th>bp</th>\n",
       "      <th>s1</th>\n",
       "      <th>s2</th>\n",
       "      <th>s3</th>\n",
       "      <th>s4</th>\n",
       "      <th>s5</th>\n",
       "      <th>s6</th>\n",
       "      <th>disease_progression</th>\n",
       "    </tr>\n",
       "  </thead>\n",
       "  <tbody>\n",
       "    <tr>\n",
       "      <th>0</th>\n",
       "      <td>0.038076</td>\n",
       "      <td>0.050680</td>\n",
       "      <td>0.061696</td>\n",
       "      <td>0.021872</td>\n",
       "      <td>-0.044223</td>\n",
       "      <td>-0.034821</td>\n",
       "      <td>-0.043401</td>\n",
       "      <td>-0.002592</td>\n",
       "      <td>0.019908</td>\n",
       "      <td>-0.017646</td>\n",
       "      <td>151.0</td>\n",
       "    </tr>\n",
       "    <tr>\n",
       "      <th>1</th>\n",
       "      <td>-0.001882</td>\n",
       "      <td>-0.044642</td>\n",
       "      <td>-0.051474</td>\n",
       "      <td>-0.026328</td>\n",
       "      <td>-0.008449</td>\n",
       "      <td>-0.019163</td>\n",
       "      <td>0.074412</td>\n",
       "      <td>-0.039493</td>\n",
       "      <td>-0.068330</td>\n",
       "      <td>-0.092204</td>\n",
       "      <td>75.0</td>\n",
       "    </tr>\n",
       "    <tr>\n",
       "      <th>2</th>\n",
       "      <td>0.085299</td>\n",
       "      <td>0.050680</td>\n",
       "      <td>0.044451</td>\n",
       "      <td>-0.005671</td>\n",
       "      <td>-0.045599</td>\n",
       "      <td>-0.034194</td>\n",
       "      <td>-0.032356</td>\n",
       "      <td>-0.002592</td>\n",
       "      <td>0.002864</td>\n",
       "      <td>-0.025930</td>\n",
       "      <td>141.0</td>\n",
       "    </tr>\n",
       "    <tr>\n",
       "      <th>3</th>\n",
       "      <td>-0.089063</td>\n",
       "      <td>-0.044642</td>\n",
       "      <td>-0.011595</td>\n",
       "      <td>-0.036656</td>\n",
       "      <td>0.012191</td>\n",
       "      <td>0.024991</td>\n",
       "      <td>-0.036038</td>\n",
       "      <td>0.034309</td>\n",
       "      <td>0.022692</td>\n",
       "      <td>-0.009362</td>\n",
       "      <td>206.0</td>\n",
       "    </tr>\n",
       "    <tr>\n",
       "      <th>4</th>\n",
       "      <td>0.005383</td>\n",
       "      <td>-0.044642</td>\n",
       "      <td>-0.036385</td>\n",
       "      <td>0.021872</td>\n",
       "      <td>0.003935</td>\n",
       "      <td>0.015596</td>\n",
       "      <td>0.008142</td>\n",
       "      <td>-0.002592</td>\n",
       "      <td>-0.031991</td>\n",
       "      <td>-0.046641</td>\n",
       "      <td>135.0</td>\n",
       "    </tr>\n",
       "  </tbody>\n",
       "</table>\n",
       "</div>"
      ],
      "text/plain": [
       "        age       sex       bmi        bp        s1        s2        s3  \\\n",
       "0  0.038076  0.050680  0.061696  0.021872 -0.044223 -0.034821 -0.043401   \n",
       "1 -0.001882 -0.044642 -0.051474 -0.026328 -0.008449 -0.019163  0.074412   \n",
       "2  0.085299  0.050680  0.044451 -0.005671 -0.045599 -0.034194 -0.032356   \n",
       "3 -0.089063 -0.044642 -0.011595 -0.036656  0.012191  0.024991 -0.036038   \n",
       "4  0.005383 -0.044642 -0.036385  0.021872  0.003935  0.015596  0.008142   \n",
       "\n",
       "         s4        s5        s6  disease_progression  \n",
       "0 -0.002592  0.019908 -0.017646                151.0  \n",
       "1 -0.039493 -0.068330 -0.092204                 75.0  \n",
       "2 -0.002592  0.002864 -0.025930                141.0  \n",
       "3  0.034309  0.022692 -0.009362                206.0  \n",
       "4 -0.002592 -0.031991 -0.046641                135.0  "
      ]
     },
     "execution_count": 9,
     "metadata": {},
     "output_type": "execute_result"
    }
   ],
   "source": [
    "df.head()"
   ]
  },
  {
   "cell_type": "markdown",
   "id": "185a3bfc",
   "metadata": {},
   "source": [
    "## Dataset cleaning"
   ]
  },
  {
   "cell_type": "code",
   "execution_count": 10,
   "id": "576dc4a8",
   "metadata": {},
   "outputs": [
    {
     "data": {
      "text/html": [
       "<div>\n",
       "<style scoped>\n",
       "    .dataframe tbody tr th:only-of-type {\n",
       "        vertical-align: middle;\n",
       "    }\n",
       "\n",
       "    .dataframe tbody tr th {\n",
       "        vertical-align: top;\n",
       "    }\n",
       "\n",
       "    .dataframe thead th {\n",
       "        text-align: right;\n",
       "    }\n",
       "</style>\n",
       "<table border=\"1\" class=\"dataframe\">\n",
       "  <thead>\n",
       "    <tr style=\"text-align: right;\">\n",
       "      <th></th>\n",
       "      <th>age</th>\n",
       "      <th>sex</th>\n",
       "      <th>bmi</th>\n",
       "      <th>bp</th>\n",
       "      <th>s1</th>\n",
       "      <th>s2</th>\n",
       "      <th>s3</th>\n",
       "      <th>s4</th>\n",
       "      <th>s5</th>\n",
       "      <th>s6</th>\n",
       "      <th>disease_progression</th>\n",
       "    </tr>\n",
       "  </thead>\n",
       "  <tbody>\n",
       "    <tr>\n",
       "      <th>count</th>\n",
       "      <td>4.420000e+02</td>\n",
       "      <td>4.420000e+02</td>\n",
       "      <td>4.420000e+02</td>\n",
       "      <td>4.420000e+02</td>\n",
       "      <td>4.420000e+02</td>\n",
       "      <td>4.420000e+02</td>\n",
       "      <td>4.420000e+02</td>\n",
       "      <td>4.420000e+02</td>\n",
       "      <td>4.420000e+02</td>\n",
       "      <td>4.420000e+02</td>\n",
       "      <td>442.000000</td>\n",
       "    </tr>\n",
       "    <tr>\n",
       "      <th>mean</th>\n",
       "      <td>-3.634285e-16</td>\n",
       "      <td>1.308343e-16</td>\n",
       "      <td>-8.045349e-16</td>\n",
       "      <td>1.281655e-16</td>\n",
       "      <td>-8.835316e-17</td>\n",
       "      <td>1.327024e-16</td>\n",
       "      <td>-4.574646e-16</td>\n",
       "      <td>3.777301e-16</td>\n",
       "      <td>-3.830854e-16</td>\n",
       "      <td>-3.412882e-16</td>\n",
       "      <td>152.133484</td>\n",
       "    </tr>\n",
       "    <tr>\n",
       "      <th>std</th>\n",
       "      <td>4.761905e-02</td>\n",
       "      <td>4.761905e-02</td>\n",
       "      <td>4.761905e-02</td>\n",
       "      <td>4.761905e-02</td>\n",
       "      <td>4.761905e-02</td>\n",
       "      <td>4.761905e-02</td>\n",
       "      <td>4.761905e-02</td>\n",
       "      <td>4.761905e-02</td>\n",
       "      <td>4.761905e-02</td>\n",
       "      <td>4.761905e-02</td>\n",
       "      <td>77.093005</td>\n",
       "    </tr>\n",
       "    <tr>\n",
       "      <th>min</th>\n",
       "      <td>-1.072256e-01</td>\n",
       "      <td>-4.464164e-02</td>\n",
       "      <td>-9.027530e-02</td>\n",
       "      <td>-1.123996e-01</td>\n",
       "      <td>-1.267807e-01</td>\n",
       "      <td>-1.156131e-01</td>\n",
       "      <td>-1.023071e-01</td>\n",
       "      <td>-7.639450e-02</td>\n",
       "      <td>-1.260974e-01</td>\n",
       "      <td>-1.377672e-01</td>\n",
       "      <td>25.000000</td>\n",
       "    </tr>\n",
       "    <tr>\n",
       "      <th>25%</th>\n",
       "      <td>-3.729927e-02</td>\n",
       "      <td>-4.464164e-02</td>\n",
       "      <td>-3.422907e-02</td>\n",
       "      <td>-3.665645e-02</td>\n",
       "      <td>-3.424784e-02</td>\n",
       "      <td>-3.035840e-02</td>\n",
       "      <td>-3.511716e-02</td>\n",
       "      <td>-3.949338e-02</td>\n",
       "      <td>-3.324879e-02</td>\n",
       "      <td>-3.317903e-02</td>\n",
       "      <td>87.000000</td>\n",
       "    </tr>\n",
       "    <tr>\n",
       "      <th>50%</th>\n",
       "      <td>5.383060e-03</td>\n",
       "      <td>-4.464164e-02</td>\n",
       "      <td>-7.283766e-03</td>\n",
       "      <td>-5.670611e-03</td>\n",
       "      <td>-4.320866e-03</td>\n",
       "      <td>-3.819065e-03</td>\n",
       "      <td>-6.584468e-03</td>\n",
       "      <td>-2.592262e-03</td>\n",
       "      <td>-1.947634e-03</td>\n",
       "      <td>-1.077698e-03</td>\n",
       "      <td>140.500000</td>\n",
       "    </tr>\n",
       "    <tr>\n",
       "      <th>75%</th>\n",
       "      <td>3.807591e-02</td>\n",
       "      <td>5.068012e-02</td>\n",
       "      <td>3.124802e-02</td>\n",
       "      <td>3.564384e-02</td>\n",
       "      <td>2.835801e-02</td>\n",
       "      <td>2.984439e-02</td>\n",
       "      <td>2.931150e-02</td>\n",
       "      <td>3.430886e-02</td>\n",
       "      <td>3.243323e-02</td>\n",
       "      <td>2.791705e-02</td>\n",
       "      <td>211.500000</td>\n",
       "    </tr>\n",
       "    <tr>\n",
       "      <th>max</th>\n",
       "      <td>1.107267e-01</td>\n",
       "      <td>5.068012e-02</td>\n",
       "      <td>1.705552e-01</td>\n",
       "      <td>1.320442e-01</td>\n",
       "      <td>1.539137e-01</td>\n",
       "      <td>1.987880e-01</td>\n",
       "      <td>1.811791e-01</td>\n",
       "      <td>1.852344e-01</td>\n",
       "      <td>1.335990e-01</td>\n",
       "      <td>1.356118e-01</td>\n",
       "      <td>346.000000</td>\n",
       "    </tr>\n",
       "  </tbody>\n",
       "</table>\n",
       "</div>"
      ],
      "text/plain": [
       "                age           sex           bmi            bp            s1  \\\n",
       "count  4.420000e+02  4.420000e+02  4.420000e+02  4.420000e+02  4.420000e+02   \n",
       "mean  -3.634285e-16  1.308343e-16 -8.045349e-16  1.281655e-16 -8.835316e-17   \n",
       "std    4.761905e-02  4.761905e-02  4.761905e-02  4.761905e-02  4.761905e-02   \n",
       "min   -1.072256e-01 -4.464164e-02 -9.027530e-02 -1.123996e-01 -1.267807e-01   \n",
       "25%   -3.729927e-02 -4.464164e-02 -3.422907e-02 -3.665645e-02 -3.424784e-02   \n",
       "50%    5.383060e-03 -4.464164e-02 -7.283766e-03 -5.670611e-03 -4.320866e-03   \n",
       "75%    3.807591e-02  5.068012e-02  3.124802e-02  3.564384e-02  2.835801e-02   \n",
       "max    1.107267e-01  5.068012e-02  1.705552e-01  1.320442e-01  1.539137e-01   \n",
       "\n",
       "                 s2            s3            s4            s5            s6  \\\n",
       "count  4.420000e+02  4.420000e+02  4.420000e+02  4.420000e+02  4.420000e+02   \n",
       "mean   1.327024e-16 -4.574646e-16  3.777301e-16 -3.830854e-16 -3.412882e-16   \n",
       "std    4.761905e-02  4.761905e-02  4.761905e-02  4.761905e-02  4.761905e-02   \n",
       "min   -1.156131e-01 -1.023071e-01 -7.639450e-02 -1.260974e-01 -1.377672e-01   \n",
       "25%   -3.035840e-02 -3.511716e-02 -3.949338e-02 -3.324879e-02 -3.317903e-02   \n",
       "50%   -3.819065e-03 -6.584468e-03 -2.592262e-03 -1.947634e-03 -1.077698e-03   \n",
       "75%    2.984439e-02  2.931150e-02  3.430886e-02  3.243323e-02  2.791705e-02   \n",
       "max    1.987880e-01  1.811791e-01  1.852344e-01  1.335990e-01  1.356118e-01   \n",
       "\n",
       "       disease_progression  \n",
       "count           442.000000  \n",
       "mean            152.133484  \n",
       "std              77.093005  \n",
       "min              25.000000  \n",
       "25%              87.000000  \n",
       "50%             140.500000  \n",
       "75%             211.500000  \n",
       "max             346.000000  "
      ]
     },
     "execution_count": 10,
     "metadata": {},
     "output_type": "execute_result"
    }
   ],
   "source": [
    "df.describe()"
   ]
  },
  {
   "cell_type": "markdown",
   "id": "220b6858",
   "metadata": {},
   "source": [
    "### null checking"
   ]
  },
  {
   "cell_type": "code",
   "execution_count": 11,
   "id": "ce904312",
   "metadata": {},
   "outputs": [
    {
     "data": {
      "text/plain": [
       "age                    False\n",
       "sex                    False\n",
       "bmi                    False\n",
       "bp                     False\n",
       "s1                     False\n",
       "s2                     False\n",
       "s3                     False\n",
       "s4                     False\n",
       "s5                     False\n",
       "s6                     False\n",
       "disease_progression    False\n",
       "dtype: bool"
      ]
     },
     "execution_count": 11,
     "metadata": {},
     "output_type": "execute_result"
    }
   ],
   "source": [
    "df.isnull().any()"
   ]
  },
  {
   "cell_type": "markdown",
   "id": "392fd674",
   "metadata": {},
   "source": [
    "### duplicates checking"
   ]
  },
  {
   "cell_type": "code",
   "execution_count": 12,
   "id": "f78427b0",
   "metadata": {},
   "outputs": [
    {
     "data": {
      "text/plain": [
       "False"
      ]
     },
     "execution_count": 12,
     "metadata": {},
     "output_type": "execute_result"
    }
   ],
   "source": [
    "df.duplicated().any()"
   ]
  },
  {
   "cell_type": "markdown",
   "id": "a339d76f",
   "metadata": {},
   "source": [
    "## Supervised learning"
   ]
  },
  {
   "cell_type": "markdown",
   "id": "6c4b44e8",
   "metadata": {},
   "source": [
    "### train-test set split"
   ]
  },
  {
   "cell_type": "code",
   "execution_count": 13,
   "id": "df2cbf3b",
   "metadata": {},
   "outputs": [],
   "source": [
    "from sklearn.model_selection import train_test_split"
   ]
  },
  {
   "cell_type": "code",
   "execution_count": 14,
   "id": "76e70513",
   "metadata": {},
   "outputs": [
    {
     "data": {
      "text/html": [
       "<div>\n",
       "<style scoped>\n",
       "    .dataframe tbody tr th:only-of-type {\n",
       "        vertical-align: middle;\n",
       "    }\n",
       "\n",
       "    .dataframe tbody tr th {\n",
       "        vertical-align: top;\n",
       "    }\n",
       "\n",
       "    .dataframe thead th {\n",
       "        text-align: right;\n",
       "    }\n",
       "</style>\n",
       "<table border=\"1\" class=\"dataframe\">\n",
       "  <thead>\n",
       "    <tr style=\"text-align: right;\">\n",
       "      <th></th>\n",
       "      <th>age</th>\n",
       "      <th>sex</th>\n",
       "      <th>bmi</th>\n",
       "      <th>bp</th>\n",
       "      <th>s1</th>\n",
       "      <th>s2</th>\n",
       "      <th>s3</th>\n",
       "      <th>s4</th>\n",
       "      <th>s5</th>\n",
       "      <th>s6</th>\n",
       "    </tr>\n",
       "  </thead>\n",
       "  <tbody>\n",
       "    <tr>\n",
       "      <th>0</th>\n",
       "      <td>0.038076</td>\n",
       "      <td>0.050680</td>\n",
       "      <td>0.061696</td>\n",
       "      <td>0.021872</td>\n",
       "      <td>-0.044223</td>\n",
       "      <td>-0.034821</td>\n",
       "      <td>-0.043401</td>\n",
       "      <td>-0.002592</td>\n",
       "      <td>0.019908</td>\n",
       "      <td>-0.017646</td>\n",
       "    </tr>\n",
       "    <tr>\n",
       "      <th>1</th>\n",
       "      <td>-0.001882</td>\n",
       "      <td>-0.044642</td>\n",
       "      <td>-0.051474</td>\n",
       "      <td>-0.026328</td>\n",
       "      <td>-0.008449</td>\n",
       "      <td>-0.019163</td>\n",
       "      <td>0.074412</td>\n",
       "      <td>-0.039493</td>\n",
       "      <td>-0.068330</td>\n",
       "      <td>-0.092204</td>\n",
       "    </tr>\n",
       "    <tr>\n",
       "      <th>2</th>\n",
       "      <td>0.085299</td>\n",
       "      <td>0.050680</td>\n",
       "      <td>0.044451</td>\n",
       "      <td>-0.005671</td>\n",
       "      <td>-0.045599</td>\n",
       "      <td>-0.034194</td>\n",
       "      <td>-0.032356</td>\n",
       "      <td>-0.002592</td>\n",
       "      <td>0.002864</td>\n",
       "      <td>-0.025930</td>\n",
       "    </tr>\n",
       "    <tr>\n",
       "      <th>3</th>\n",
       "      <td>-0.089063</td>\n",
       "      <td>-0.044642</td>\n",
       "      <td>-0.011595</td>\n",
       "      <td>-0.036656</td>\n",
       "      <td>0.012191</td>\n",
       "      <td>0.024991</td>\n",
       "      <td>-0.036038</td>\n",
       "      <td>0.034309</td>\n",
       "      <td>0.022692</td>\n",
       "      <td>-0.009362</td>\n",
       "    </tr>\n",
       "    <tr>\n",
       "      <th>4</th>\n",
       "      <td>0.005383</td>\n",
       "      <td>-0.044642</td>\n",
       "      <td>-0.036385</td>\n",
       "      <td>0.021872</td>\n",
       "      <td>0.003935</td>\n",
       "      <td>0.015596</td>\n",
       "      <td>0.008142</td>\n",
       "      <td>-0.002592</td>\n",
       "      <td>-0.031991</td>\n",
       "      <td>-0.046641</td>\n",
       "    </tr>\n",
       "  </tbody>\n",
       "</table>\n",
       "</div>"
      ],
      "text/plain": [
       "        age       sex       bmi        bp        s1        s2        s3  \\\n",
       "0  0.038076  0.050680  0.061696  0.021872 -0.044223 -0.034821 -0.043401   \n",
       "1 -0.001882 -0.044642 -0.051474 -0.026328 -0.008449 -0.019163  0.074412   \n",
       "2  0.085299  0.050680  0.044451 -0.005671 -0.045599 -0.034194 -0.032356   \n",
       "3 -0.089063 -0.044642 -0.011595 -0.036656  0.012191  0.024991 -0.036038   \n",
       "4  0.005383 -0.044642 -0.036385  0.021872  0.003935  0.015596  0.008142   \n",
       "\n",
       "         s4        s5        s6  \n",
       "0 -0.002592  0.019908 -0.017646  \n",
       "1 -0.039493 -0.068330 -0.092204  \n",
       "2 -0.002592  0.002864 -0.025930  \n",
       "3  0.034309  0.022692 -0.009362  \n",
       "4 -0.002592 -0.031991 -0.046641  "
      ]
     },
     "execution_count": 14,
     "metadata": {},
     "output_type": "execute_result"
    }
   ],
   "source": [
    "X = df.iloc[:, :-1]\n",
    "X.head()"
   ]
  },
  {
   "cell_type": "code",
   "execution_count": 15,
   "id": "298d212f",
   "metadata": {},
   "outputs": [
    {
     "data": {
      "text/plain": [
       "0    151.0\n",
       "1     75.0\n",
       "2    141.0\n",
       "3    206.0\n",
       "4    135.0\n",
       "Name: disease_progression, dtype: float64"
      ]
     },
     "execution_count": 15,
     "metadata": {},
     "output_type": "execute_result"
    }
   ],
   "source": [
    "Y = df.iloc[:, -1]\n",
    "Y.head()"
   ]
  },
  {
   "cell_type": "code",
   "execution_count": 16,
   "id": "810064e7",
   "metadata": {},
   "outputs": [],
   "source": [
    "x_train, x_test, y_train, y_test = train_test_split(X, Y, train_size=0.8, random_state=1)"
   ]
  },
  {
   "cell_type": "code",
   "execution_count": 17,
   "id": "b92725c9",
   "metadata": {},
   "outputs": [
    {
     "data": {
      "text/plain": [
       "(442, 10)"
      ]
     },
     "execution_count": 17,
     "metadata": {},
     "output_type": "execute_result"
    }
   ],
   "source": [
    "X.shape"
   ]
  },
  {
   "cell_type": "code",
   "execution_count": 18,
   "id": "7d01883d",
   "metadata": {},
   "outputs": [
    {
     "data": {
      "text/plain": [
       "(353, 10)"
      ]
     },
     "execution_count": 18,
     "metadata": {},
     "output_type": "execute_result"
    }
   ],
   "source": [
    "x_train.shape"
   ]
  },
  {
   "cell_type": "markdown",
   "id": "4f40a643",
   "metadata": {},
   "source": [
    "### regression (MLPRegressor)"
   ]
  },
  {
   "cell_type": "code",
   "execution_count": 19,
   "id": "268ad919",
   "metadata": {},
   "outputs": [],
   "source": [
    "from sklearn.neural_network import MLPRegressor\n",
    "from sklearn.model_selection import GridSearchCV"
   ]
  },
  {
   "cell_type": "markdown",
   "id": "19943174",
   "metadata": {},
   "source": [
    "#### best hyperparameters"
   ]
  },
  {
   "cell_type": "markdown",
   "id": "a6d1398c",
   "metadata": {},
   "source": [
    "- I took a cue from this [post](https://stats.stackexchange.com/questions/181/how-to-choose-the-number-of-hidden-layers-and-nodes-in-a-feedforward-neural-netw) regarding the choice of these parameters.\n",
    "- we have to choose the number of **hidden layers** of the neural network. We do it based on the current number of neurons in the input and output layers.\n",
    "- **input layer**: we only have 1 input layer in the neural network, the number of neurons in the input layer is equals to the number of features (we have 10 features in this dataset), so we have **10** neurons here.\n",
    "- **output layer**: we only have 1 output layer in the neural network, and since this is a **regression problem**, we have **1** neuron here.\n",
    "- **hidden layers**:\n",
    "    - determining the **number of hidden layers**:\n",
    "        - **0** - only capable of representing linear separable functions or decisions.\n",
    "        - **1** - can approximate any function that contains a continuous mapping\n",
    "from one finite space to another.\n",
    "        - **2** - can represent an arbitrary decision boundary to arbitrary accuracy\n",
    "with rational activation functions and can approximate any smooth\n",
    "mapping to any accuracy.\n",
    "    - determining the **number of neurons in the hidden layers**:\n",
    "        - **rule of thumb**:\n",
    "            1. the number of hidden neurons should be between the size of the input layer and the size of the output layer.\n",
    "            2. the number of hidden neurons should be 2/3 the size of the input layer, plus the size of the output layer.\n",
    "            3. the number of hidden neurons should be less than twice the size of the input layer.\n",
    "        - **conclusions** (input layer size: 10, output layer size: 1):\n",
    "            1. hidden layer size: between $[10,1]$\n",
    "            2. hidden layer size: (${2 \\over 3} \\cdot 10) + 1 = 6.67 + 1 = 7.67 \\approx 8$\n",
    "            3. hidden layer size: < $2 \\cdot 10 = 20$"
   ]
  },
  {
   "cell_type": "code",
   "execution_count": 20,
   "id": "93cf6444",
   "metadata": {},
   "outputs": [],
   "source": [
    "param_grid = {'hidden_layer_sizes': [(8,), (8,8), (8,8,8), (10,), (8,10,8), (10,10), (10,10,10), (100,)]}"
   ]
  },
  {
   "cell_type": "code",
   "execution_count": 21,
   "id": "8339f11b",
   "metadata": {},
   "outputs": [],
   "source": [
    "grid = GridSearchCV(MLPRegressor(max_iter=5000), param_grid, cv=7, verbose=3)"
   ]
  },
  {
   "cell_type": "code",
   "execution_count": 22,
   "id": "99e7f835",
   "metadata": {},
   "outputs": [
    {
     "name": "stdout",
     "output_type": "stream",
     "text": [
      "Fitting 7 folds for each of 8 candidates, totalling 56 fits\n"
     ]
    },
    {
     "name": "stderr",
     "output_type": "stream",
     "text": [
      "C:\\tools\\miniconda3\\envs\\myenv\\lib\\site-packages\\sklearn\\neural_network\\_multilayer_perceptron.py:614: ConvergenceWarning: Stochastic Optimizer: Maximum iterations (5000) reached and the optimization hasn't converged yet.\n",
      "  warnings.warn(\n"
     ]
    },
    {
     "name": "stdout",
     "output_type": "stream",
     "text": [
      "[CV 1/7] END ...........hidden_layer_sizes=(8,);, score=0.400 total time=   4.8s\n"
     ]
    },
    {
     "name": "stderr",
     "output_type": "stream",
     "text": [
      "C:\\tools\\miniconda3\\envs\\myenv\\lib\\site-packages\\sklearn\\neural_network\\_multilayer_perceptron.py:614: ConvergenceWarning: Stochastic Optimizer: Maximum iterations (5000) reached and the optimization hasn't converged yet.\n",
      "  warnings.warn(\n"
     ]
    },
    {
     "name": "stdout",
     "output_type": "stream",
     "text": [
      "[CV 2/7] END ...........hidden_layer_sizes=(8,);, score=0.225 total time=   4.6s\n"
     ]
    },
    {
     "name": "stderr",
     "output_type": "stream",
     "text": [
      "C:\\tools\\miniconda3\\envs\\myenv\\lib\\site-packages\\sklearn\\neural_network\\_multilayer_perceptron.py:614: ConvergenceWarning: Stochastic Optimizer: Maximum iterations (5000) reached and the optimization hasn't converged yet.\n",
      "  warnings.warn(\n"
     ]
    },
    {
     "name": "stdout",
     "output_type": "stream",
     "text": [
      "[CV 3/7] END ...........hidden_layer_sizes=(8,);, score=0.535 total time=   4.5s\n"
     ]
    },
    {
     "name": "stderr",
     "output_type": "stream",
     "text": [
      "C:\\tools\\miniconda3\\envs\\myenv\\lib\\site-packages\\sklearn\\neural_network\\_multilayer_perceptron.py:614: ConvergenceWarning: Stochastic Optimizer: Maximum iterations (5000) reached and the optimization hasn't converged yet.\n",
      "  warnings.warn(\n"
     ]
    },
    {
     "name": "stdout",
     "output_type": "stream",
     "text": [
      "[CV 4/7] END ...........hidden_layer_sizes=(8,);, score=0.413 total time=   4.5s\n"
     ]
    },
    {
     "name": "stderr",
     "output_type": "stream",
     "text": [
      "C:\\tools\\miniconda3\\envs\\myenv\\lib\\site-packages\\sklearn\\neural_network\\_multilayer_perceptron.py:614: ConvergenceWarning: Stochastic Optimizer: Maximum iterations (5000) reached and the optimization hasn't converged yet.\n",
      "  warnings.warn(\n"
     ]
    },
    {
     "name": "stdout",
     "output_type": "stream",
     "text": [
      "[CV 5/7] END ...........hidden_layer_sizes=(8,);, score=0.529 total time=   4.5s\n"
     ]
    },
    {
     "name": "stderr",
     "output_type": "stream",
     "text": [
      "C:\\tools\\miniconda3\\envs\\myenv\\lib\\site-packages\\sklearn\\neural_network\\_multilayer_perceptron.py:614: ConvergenceWarning: Stochastic Optimizer: Maximum iterations (5000) reached and the optimization hasn't converged yet.\n",
      "  warnings.warn(\n"
     ]
    },
    {
     "name": "stdout",
     "output_type": "stream",
     "text": [
      "[CV 6/7] END ...........hidden_layer_sizes=(8,);, score=0.527 total time=   4.7s\n"
     ]
    },
    {
     "name": "stderr",
     "output_type": "stream",
     "text": [
      "C:\\tools\\miniconda3\\envs\\myenv\\lib\\site-packages\\sklearn\\neural_network\\_multilayer_perceptron.py:614: ConvergenceWarning: Stochastic Optimizer: Maximum iterations (5000) reached and the optimization hasn't converged yet.\n",
      "  warnings.warn(\n"
     ]
    },
    {
     "name": "stdout",
     "output_type": "stream",
     "text": [
      "[CV 7/7] END ...........hidden_layer_sizes=(8,);, score=0.525 total time=   4.9s\n",
      "[CV 1/7] END .........hidden_layer_sizes=(8, 8);, score=0.450 total time=   4.5s\n",
      "[CV 2/7] END .........hidden_layer_sizes=(8, 8);, score=0.364 total time=   4.3s\n",
      "[CV 3/7] END .........hidden_layer_sizes=(8, 8);, score=0.591 total time=   4.5s\n",
      "[CV 4/7] END .........hidden_layer_sizes=(8, 8);, score=0.374 total time=   4.9s\n",
      "[CV 5/7] END .........hidden_layer_sizes=(8, 8);, score=0.548 total time=   4.8s\n",
      "[CV 6/7] END .........hidden_layer_sizes=(8, 8);, score=0.567 total time=   5.0s\n",
      "[CV 7/7] END .........hidden_layer_sizes=(8, 8);, score=0.540 total time=   2.4s\n",
      "[CV 1/7] END ......hidden_layer_sizes=(8, 8, 8);, score=0.454 total time=   4.0s\n",
      "[CV 2/7] END ......hidden_layer_sizes=(8, 8, 8);, score=0.378 total time=   3.2s\n",
      "[CV 3/7] END ......hidden_layer_sizes=(8, 8, 8);, score=0.585 total time=   2.0s\n",
      "[CV 4/7] END ......hidden_layer_sizes=(8, 8, 8);, score=0.371 total time=   3.8s\n",
      "[CV 5/7] END ......hidden_layer_sizes=(8, 8, 8);, score=0.549 total time=   3.7s\n",
      "[CV 6/7] END ......hidden_layer_sizes=(8, 8, 8);, score=0.574 total time=   2.9s\n",
      "[CV 7/7] END ......hidden_layer_sizes=(8, 8, 8);, score=0.531 total time=   4.4s\n"
     ]
    },
    {
     "name": "stderr",
     "output_type": "stream",
     "text": [
      "C:\\tools\\miniconda3\\envs\\myenv\\lib\\site-packages\\sklearn\\neural_network\\_multilayer_perceptron.py:614: ConvergenceWarning: Stochastic Optimizer: Maximum iterations (5000) reached and the optimization hasn't converged yet.\n",
      "  warnings.warn(\n"
     ]
    },
    {
     "name": "stdout",
     "output_type": "stream",
     "text": [
      "[CV 1/7] END ..........hidden_layer_sizes=(10,);, score=0.428 total time=   4.7s\n"
     ]
    },
    {
     "name": "stderr",
     "output_type": "stream",
     "text": [
      "C:\\tools\\miniconda3\\envs\\myenv\\lib\\site-packages\\sklearn\\neural_network\\_multilayer_perceptron.py:614: ConvergenceWarning: Stochastic Optimizer: Maximum iterations (5000) reached and the optimization hasn't converged yet.\n",
      "  warnings.warn(\n"
     ]
    },
    {
     "name": "stdout",
     "output_type": "stream",
     "text": [
      "[CV 2/7] END ..........hidden_layer_sizes=(10,);, score=0.221 total time=   4.7s\n"
     ]
    },
    {
     "name": "stderr",
     "output_type": "stream",
     "text": [
      "C:\\tools\\miniconda3\\envs\\myenv\\lib\\site-packages\\sklearn\\neural_network\\_multilayer_perceptron.py:614: ConvergenceWarning: Stochastic Optimizer: Maximum iterations (5000) reached and the optimization hasn't converged yet.\n",
      "  warnings.warn(\n"
     ]
    },
    {
     "name": "stdout",
     "output_type": "stream",
     "text": [
      "[CV 3/7] END ..........hidden_layer_sizes=(10,);, score=0.572 total time=   4.7s\n"
     ]
    },
    {
     "name": "stderr",
     "output_type": "stream",
     "text": [
      "C:\\tools\\miniconda3\\envs\\myenv\\lib\\site-packages\\sklearn\\neural_network\\_multilayer_perceptron.py:614: ConvergenceWarning: Stochastic Optimizer: Maximum iterations (5000) reached and the optimization hasn't converged yet.\n",
      "  warnings.warn(\n"
     ]
    },
    {
     "name": "stdout",
     "output_type": "stream",
     "text": [
      "[CV 4/7] END ..........hidden_layer_sizes=(10,);, score=0.358 total time=   4.7s\n"
     ]
    },
    {
     "name": "stderr",
     "output_type": "stream",
     "text": [
      "C:\\tools\\miniconda3\\envs\\myenv\\lib\\site-packages\\sklearn\\neural_network\\_multilayer_perceptron.py:614: ConvergenceWarning: Stochastic Optimizer: Maximum iterations (5000) reached and the optimization hasn't converged yet.\n",
      "  warnings.warn(\n"
     ]
    },
    {
     "name": "stdout",
     "output_type": "stream",
     "text": [
      "[CV 5/7] END ..........hidden_layer_sizes=(10,);, score=0.534 total time=   4.6s\n"
     ]
    },
    {
     "name": "stderr",
     "output_type": "stream",
     "text": [
      "C:\\tools\\miniconda3\\envs\\myenv\\lib\\site-packages\\sklearn\\neural_network\\_multilayer_perceptron.py:614: ConvergenceWarning: Stochastic Optimizer: Maximum iterations (5000) reached and the optimization hasn't converged yet.\n",
      "  warnings.warn(\n"
     ]
    },
    {
     "name": "stdout",
     "output_type": "stream",
     "text": [
      "[CV 6/7] END ..........hidden_layer_sizes=(10,);, score=0.530 total time=   4.6s\n"
     ]
    },
    {
     "name": "stderr",
     "output_type": "stream",
     "text": [
      "C:\\tools\\miniconda3\\envs\\myenv\\lib\\site-packages\\sklearn\\neural_network\\_multilayer_perceptron.py:614: ConvergenceWarning: Stochastic Optimizer: Maximum iterations (5000) reached and the optimization hasn't converged yet.\n",
      "  warnings.warn(\n"
     ]
    },
    {
     "name": "stdout",
     "output_type": "stream",
     "text": [
      "[CV 7/7] END ..........hidden_layer_sizes=(10,);, score=0.541 total time=   4.6s\n",
      "[CV 1/7] END .....hidden_layer_sizes=(8, 10, 8);, score=0.442 total time=   4.4s\n",
      "[CV 2/7] END .....hidden_layer_sizes=(8, 10, 8);, score=0.362 total time=   3.0s\n",
      "[CV 3/7] END .....hidden_layer_sizes=(8, 10, 8);, score=0.592 total time=   3.7s\n",
      "[CV 4/7] END .....hidden_layer_sizes=(8, 10, 8);, score=0.339 total time=   3.2s\n",
      "[CV 5/7] END .....hidden_layer_sizes=(8, 10, 8);, score=0.548 total time=   2.6s\n",
      "[CV 6/7] END .....hidden_layer_sizes=(8, 10, 8);, score=0.551 total time=   5.5s\n",
      "[CV 7/7] END .....hidden_layer_sizes=(8, 10, 8);, score=0.494 total time=   6.3s\n",
      "[CV 1/7] END .......hidden_layer_sizes=(10, 10);, score=0.452 total time=   4.3s\n",
      "[CV 2/7] END .......hidden_layer_sizes=(10, 10);, score=0.369 total time=   3.7s\n",
      "[CV 3/7] END .......hidden_layer_sizes=(10, 10);, score=0.586 total time=   4.7s\n",
      "[CV 4/7] END .......hidden_layer_sizes=(10, 10);, score=0.381 total time=   2.8s\n",
      "[CV 5/7] END .......hidden_layer_sizes=(10, 10);, score=0.548 total time=   2.8s\n",
      "[CV 6/7] END .......hidden_layer_sizes=(10, 10);, score=0.562 total time=   3.1s\n",
      "[CV 7/7] END .......hidden_layer_sizes=(10, 10);, score=0.549 total time=   4.7s\n",
      "[CV 1/7] END ...hidden_layer_sizes=(10, 10, 10);, score=0.444 total time=   2.8s\n",
      "[CV 2/7] END ...hidden_layer_sizes=(10, 10, 10);, score=0.361 total time=   2.4s\n",
      "[CV 3/7] END ...hidden_layer_sizes=(10, 10, 10);, score=0.592 total time=   2.1s\n",
      "[CV 4/7] END ...hidden_layer_sizes=(10, 10, 10);, score=0.338 total time=   3.4s\n",
      "[CV 5/7] END ...hidden_layer_sizes=(10, 10, 10);, score=0.548 total time=   3.2s\n",
      "[CV 6/7] END ...hidden_layer_sizes=(10, 10, 10);, score=0.550 total time=   6.1s\n"
     ]
    },
    {
     "name": "stderr",
     "output_type": "stream",
     "text": [
      "C:\\tools\\miniconda3\\envs\\myenv\\lib\\site-packages\\sklearn\\neural_network\\_multilayer_perceptron.py:614: ConvergenceWarning: Stochastic Optimizer: Maximum iterations (5000) reached and the optimization hasn't converged yet.\n",
      "  warnings.warn(\n"
     ]
    },
    {
     "name": "stdout",
     "output_type": "stream",
     "text": [
      "[CV 7/7] END ...hidden_layer_sizes=(10, 10, 10);, score=0.516 total time=   8.0s\n",
      "[CV 1/7] END .........hidden_layer_sizes=(100,);, score=0.451 total time=   5.3s\n",
      "[CV 2/7] END .........hidden_layer_sizes=(100,);, score=0.364 total time=   6.0s\n",
      "[CV 3/7] END .........hidden_layer_sizes=(100,);, score=0.585 total time=   5.6s\n",
      "[CV 4/7] END .........hidden_layer_sizes=(100,);, score=0.363 total time=   5.5s\n",
      "[CV 5/7] END .........hidden_layer_sizes=(100,);, score=0.545 total time=   4.8s\n",
      "[CV 6/7] END .........hidden_layer_sizes=(100,);, score=0.568 total time=   6.0s\n",
      "[CV 7/7] END .........hidden_layer_sizes=(100,);, score=0.546 total time=   6.0s\n"
     ]
    },
    {
     "data": {
      "text/plain": [
       "GridSearchCV(cv=7, estimator=MLPRegressor(max_iter=5000),\n",
       "             param_grid={'hidden_layer_sizes': [(8,), (8, 8), (8, 8, 8), (10,),\n",
       "                                                (8, 10, 8), (10, 10),\n",
       "                                                (10, 10, 10), (100,)]},\n",
       "             verbose=3)"
      ]
     },
     "execution_count": 22,
     "metadata": {},
     "output_type": "execute_result"
    }
   ],
   "source": [
    "grid.fit(x_train, y_train)"
   ]
  },
  {
   "cell_type": "code",
   "execution_count": 23,
   "id": "7dafad4b",
   "metadata": {},
   "outputs": [
    {
     "data": {
      "text/plain": [
       "{'hidden_layer_sizes': (10, 10)}"
      ]
     },
     "execution_count": 23,
     "metadata": {},
     "output_type": "execute_result"
    }
   ],
   "source": [
    "grid.best_params_"
   ]
  },
  {
   "cell_type": "code",
   "execution_count": 24,
   "id": "3d5aa3b7",
   "metadata": {},
   "outputs": [
    {
     "data": {
      "text/plain": [
       "0.49235967792262364"
      ]
     },
     "execution_count": 24,
     "metadata": {},
     "output_type": "execute_result"
    }
   ],
   "source": [
    "grid.best_score_"
   ]
  },
  {
   "cell_type": "markdown",
   "id": "83792eb7",
   "metadata": {},
   "source": [
    "#### learning"
   ]
  },
  {
   "cell_type": "code",
   "execution_count": 25,
   "id": "9b1c9468",
   "metadata": {},
   "outputs": [],
   "source": [
    "reg = MLPRegressor(max_iter=10000, random_state=1, **grid.best_params_)"
   ]
  },
  {
   "cell_type": "code",
   "execution_count": 26,
   "id": "b2000323",
   "metadata": {},
   "outputs": [
    {
     "data": {
      "text/plain": [
       "MLPRegressor(hidden_layer_sizes=(10, 10), max_iter=10000, random_state=1)"
      ]
     },
     "execution_count": 26,
     "metadata": {},
     "output_type": "execute_result"
    }
   ],
   "source": [
    "reg.fit(x_train, y_train)"
   ]
  },
  {
   "cell_type": "markdown",
   "id": "b85e3596",
   "metadata": {},
   "source": [
    "#### score"
   ]
  },
  {
   "cell_type": "code",
   "execution_count": 27,
   "id": "3b0fdc4f",
   "metadata": {},
   "outputs": [],
   "source": [
    "from sklearn.metrics import explained_variance_score, mean_squared_error, r2_score"
   ]
  },
  {
   "cell_type": "code",
   "execution_count": 28,
   "id": "838b9c67",
   "metadata": {},
   "outputs": [],
   "source": [
    "y_pred = reg.predict(x_test)"
   ]
  },
  {
   "cell_type": "code",
   "execution_count": 30,
   "id": "e39dcd86",
   "metadata": {},
   "outputs": [
    {
     "data": {
      "text/plain": [
       "(0.42993694134867577, 3056.737290640017, 0.4263925110882929)"
      ]
     },
     "execution_count": 30,
     "metadata": {},
     "output_type": "execute_result"
    }
   ],
   "source": [
    "explained_variance_score(y_test, y_pred), mean_squared_error(y_test, y_pred), r2_score(y_test, y_pred)"
   ]
  },
  {
   "cell_type": "markdown",
   "id": "a725e95d",
   "metadata": {},
   "source": [
    "### regression (LinearRegression)"
   ]
  },
  {
   "cell_type": "code",
   "execution_count": 31,
   "id": "a25771ae",
   "metadata": {},
   "outputs": [],
   "source": [
    "from sklearn.linear_model import LinearRegression"
   ]
  },
  {
   "cell_type": "markdown",
   "id": "ab275a96",
   "metadata": {},
   "source": [
    "#### best hyperparameters"
   ]
  },
  {
   "cell_type": "code",
   "execution_count": 32,
   "id": "618a884e",
   "metadata": {},
   "outputs": [],
   "source": [
    "param_grid = {'fit_intercept': [True, False], 'normalize': [True, False]}"
   ]
  },
  {
   "cell_type": "code",
   "execution_count": 33,
   "id": "fce323b6",
   "metadata": {},
   "outputs": [],
   "source": [
    "grid = GridSearchCV(LinearRegression(), param_grid, cv=7, verbose=3)"
   ]
  },
  {
   "cell_type": "code",
   "execution_count": 34,
   "id": "1089c811",
   "metadata": {},
   "outputs": [
    {
     "name": "stdout",
     "output_type": "stream",
     "text": [
      "Fitting 7 folds for each of 4 candidates, totalling 28 fits\n",
      "[CV 1/7] END fit_intercept=True, normalize=True;, score=0.420 total time=   0.7s\n",
      "[CV 2/7] END fit_intercept=True, normalize=True;, score=0.344 total time=   0.0s\n",
      "[CV 3/7] END fit_intercept=True, normalize=True;, score=0.587 total time=   0.0s\n",
      "[CV 4/7] END fit_intercept=True, normalize=True;, score=0.340 total time=   0.0s\n",
      "[CV 5/7] END fit_intercept=True, normalize=True;, score=0.540 total time=   0.0s\n",
      "[CV 6/7] END fit_intercept=True, normalize=True;, score=0.572 total time=   0.0s\n",
      "[CV 7/7] END fit_intercept=True, normalize=True;, score=0.535 total time=   0.0s\n",
      "[CV 1/7] END fit_intercept=True, normalize=False;, score=0.420 total time=   0.0s\n",
      "[CV 2/7] END fit_intercept=True, normalize=False;, score=0.344 total time=   0.0s\n",
      "[CV 3/7] END fit_intercept=True, normalize=False;, score=0.587 total time=   0.0s\n",
      "[CV 4/7] END fit_intercept=True, normalize=False;, score=0.340 total time=   0.0s\n",
      "[CV 5/7] END fit_intercept=True, normalize=False;, score=0.540 total time=   0.0s\n",
      "[CV 6/7] END fit_intercept=True, normalize=False;, score=0.572 total time=   0.0s\n",
      "[CV 7/7] END fit_intercept=True, normalize=False;, score=0.535 total time=   0.0s\n",
      "[CV 1/7] END fit_intercept=False, normalize=True;, score=-4.877 total time=   0.0s\n",
      "[CV 2/7] END fit_intercept=False, normalize=True;, score=-3.691 total time=   0.0s\n",
      "[CV 3/7] END fit_intercept=False, normalize=True;, score=-3.582 total time=   0.0s\n",
      "[CV 4/7] END fit_intercept=False, normalize=True;, score=-3.187 total time=   0.0s\n",
      "[CV 5/7] END fit_intercept=False, normalize=True;, score=-3.532 total time=   0.0s\n",
      "[CV 6/7] END fit_intercept=False, normalize=True;, score=-2.907 total time=   0.0s\n",
      "[CV 7/7] END fit_intercept=False, normalize=True;, score=-3.717 total time=   0.0s\n",
      "[CV 1/7] END fit_intercept=False, normalize=False;, score=-4.877 total time=   0.0s\n",
      "[CV 2/7] END fit_intercept=False, normalize=False;, score=-3.691 total time=   0.0s\n",
      "[CV 3/7] END fit_intercept=False, normalize=False;, score=-3.582 total time=   0.0s\n",
      "[CV 4/7] END fit_intercept=False, normalize=False;, score=-3.187 total time=   0.0s\n",
      "[CV 5/7] END fit_intercept=False, normalize=False;, score=-3.532 total time=   0.0s\n",
      "[CV 6/7] END fit_intercept=False, normalize=False;, score=-2.907 total time=   0.0s\n",
      "[CV 7/7] END fit_intercept=False, normalize=False;, score=-3.717 total time=   0.0s\n"
     ]
    },
    {
     "data": {
      "text/plain": [
       "GridSearchCV(cv=7, estimator=LinearRegression(),\n",
       "             param_grid={'fit_intercept': [True, False],\n",
       "                         'normalize': [True, False]},\n",
       "             verbose=3)"
      ]
     },
     "execution_count": 34,
     "metadata": {},
     "output_type": "execute_result"
    }
   ],
   "source": [
    "grid.fit(x_train, y_train)"
   ]
  },
  {
   "cell_type": "code",
   "execution_count": 35,
   "id": "fc5df9a4",
   "metadata": {},
   "outputs": [
    {
     "data": {
      "text/plain": [
       "{'fit_intercept': True, 'normalize': False}"
      ]
     },
     "execution_count": 35,
     "metadata": {},
     "output_type": "execute_result"
    }
   ],
   "source": [
    "grid.best_params_"
   ]
  },
  {
   "cell_type": "code",
   "execution_count": 36,
   "id": "213e9f02",
   "metadata": {},
   "outputs": [
    {
     "data": {
      "text/plain": [
       "0.4768863974833785"
      ]
     },
     "execution_count": 36,
     "metadata": {},
     "output_type": "execute_result"
    }
   ],
   "source": [
    "grid.best_score_"
   ]
  },
  {
   "cell_type": "markdown",
   "id": "65158497",
   "metadata": {},
   "source": [
    "#### learning"
   ]
  },
  {
   "cell_type": "code",
   "execution_count": 37,
   "id": "ea4ba177",
   "metadata": {},
   "outputs": [],
   "source": [
    "reg = LinearRegression(**grid.best_params_)"
   ]
  },
  {
   "cell_type": "code",
   "execution_count": 38,
   "id": "231a1115",
   "metadata": {},
   "outputs": [
    {
     "data": {
      "text/plain": [
       "LinearRegression()"
      ]
     },
     "execution_count": 38,
     "metadata": {},
     "output_type": "execute_result"
    }
   ],
   "source": [
    "reg.fit(x_train, y_train)"
   ]
  },
  {
   "cell_type": "markdown",
   "id": "fd11fc35",
   "metadata": {},
   "source": [
    "#### score"
   ]
  },
  {
   "cell_type": "code",
   "execution_count": 39,
   "id": "94b1d2cc",
   "metadata": {},
   "outputs": [],
   "source": [
    "y_pred = reg.predict(x_test)"
   ]
  },
  {
   "cell_type": "code",
   "execution_count": 40,
   "id": "1773c725",
   "metadata": {},
   "outputs": [
    {
     "data": {
      "text/plain": [
       "(0.4407260889108393, 2992.557681452944, 0.43843604017332705)"
      ]
     },
     "execution_count": 40,
     "metadata": {},
     "output_type": "execute_result"
    }
   ],
   "source": [
    "explained_variance_score(y_test, y_pred), mean_squared_error(y_test, y_pred), r2_score(y_test, y_pred)"
   ]
  },
  {
   "cell_type": "markdown",
   "id": "487e6364",
   "metadata": {},
   "source": [
    "### regression (PolynomialRegression)"
   ]
  },
  {
   "cell_type": "code",
   "execution_count": 41,
   "id": "a6550a4d",
   "metadata": {},
   "outputs": [],
   "source": [
    "from sklearn.preprocessing import PolynomialFeatures\n",
    "from sklearn.pipeline import make_pipeline"
   ]
  },
  {
   "cell_type": "code",
   "execution_count": 42,
   "id": "24422e27",
   "metadata": {},
   "outputs": [],
   "source": [
    "def PolynomialRegression(degree=2, **kwargs):\n",
    "    return make_pipeline(PolynomialFeatures(degree), LinearRegression(**kwargs))"
   ]
  },
  {
   "cell_type": "markdown",
   "id": "eab9da5a",
   "metadata": {},
   "source": [
    "#### best hyperparameters"
   ]
  },
  {
   "cell_type": "code",
   "execution_count": 43,
   "id": "f89c8a59",
   "metadata": {},
   "outputs": [],
   "source": [
    "param_grid = {'polynomialfeatures__degree':np.arange(1, 10), 'linearregression__fit_intercept': [True, False], 'linearregression__normalize': [True, False]}"
   ]
  },
  {
   "cell_type": "code",
   "execution_count": 44,
   "id": "f7b3322a",
   "metadata": {},
   "outputs": [],
   "source": [
    "grid = GridSearchCV(PolynomialRegression(), param_grid, cv=7, verbose=3)"
   ]
  },
  {
   "cell_type": "code",
   "execution_count": 45,
   "id": "4aa1f1bc",
   "metadata": {},
   "outputs": [
    {
     "name": "stdout",
     "output_type": "stream",
     "text": [
      "Fitting 7 folds for each of 36 candidates, totalling 252 fits\n",
      "[CV 1/7] END linearregression__fit_intercept=True, linearregression__normalize=True, polynomialfeatures__degree=1;, score=0.420 total time=   0.0s\n",
      "[CV 2/7] END linearregression__fit_intercept=True, linearregression__normalize=True, polynomialfeatures__degree=1;, score=0.344 total time=   0.0s\n",
      "[CV 3/7] END linearregression__fit_intercept=True, linearregression__normalize=True, polynomialfeatures__degree=1;, score=0.587 total time=   0.0s\n",
      "[CV 4/7] END linearregression__fit_intercept=True, linearregression__normalize=True, polynomialfeatures__degree=1;, score=0.340 total time=   0.0s\n",
      "[CV 5/7] END linearregression__fit_intercept=True, linearregression__normalize=True, polynomialfeatures__degree=1;, score=0.540 total time=   0.0s\n",
      "[CV 6/7] END linearregression__fit_intercept=True, linearregression__normalize=True, polynomialfeatures__degree=1;, score=0.572 total time=   0.0s\n",
      "[CV 7/7] END linearregression__fit_intercept=True, linearregression__normalize=True, polynomialfeatures__degree=1;, score=0.535 total time=   0.0s\n",
      "[CV 1/7] END linearregression__fit_intercept=True, linearregression__normalize=True, polynomialfeatures__degree=2;, score=0.425 total time=   0.0s\n",
      "[CV 2/7] END linearregression__fit_intercept=True, linearregression__normalize=True, polynomialfeatures__degree=2;, score=0.301 total time=   0.0s\n",
      "[CV 3/7] END linearregression__fit_intercept=True, linearregression__normalize=True, polynomialfeatures__degree=2;, score=0.504 total time=   0.0s\n",
      "[CV 4/7] END linearregression__fit_intercept=True, linearregression__normalize=True, polynomialfeatures__degree=2;, score=0.208 total time=   0.0s\n",
      "[CV 5/7] END linearregression__fit_intercept=True, linearregression__normalize=True, polynomialfeatures__degree=2;, score=0.218 total time=   0.0s\n",
      "[CV 6/7] END linearregression__fit_intercept=True, linearregression__normalize=True, polynomialfeatures__degree=2;, score=0.502 total time=   0.0s\n",
      "[CV 7/7] END linearregression__fit_intercept=True, linearregression__normalize=True, polynomialfeatures__degree=2;, score=0.512 total time=   0.0s\n",
      "[CV 1/7] END linearregression__fit_intercept=True, linearregression__normalize=True, polynomialfeatures__degree=3;, score=-17754.875 total time=   0.0s\n",
      "[CV 2/7] END linearregression__fit_intercept=True, linearregression__normalize=True, polynomialfeatures__degree=3;, score=-45.442 total time=   0.0s\n",
      "[CV 3/7] END linearregression__fit_intercept=True, linearregression__normalize=True, polynomialfeatures__degree=3;, score=-124.142 total time=   0.0s\n",
      "[CV 4/7] END linearregression__fit_intercept=True, linearregression__normalize=True, polynomialfeatures__degree=3;, score=-8942.672 total time=   0.0s\n",
      "[CV 5/7] END linearregression__fit_intercept=True, linearregression__normalize=True, polynomialfeatures__degree=3;, score=-97.517 total time=   0.0s\n",
      "[CV 6/7] END linearregression__fit_intercept=True, linearregression__normalize=True, polynomialfeatures__degree=3;, score=-61.692 total time=   0.0s\n",
      "[CV 7/7] END linearregression__fit_intercept=True, linearregression__normalize=True, polynomialfeatures__degree=3;, score=-70.934 total time=   0.0s\n",
      "[CV 1/7] END linearregression__fit_intercept=True, linearregression__normalize=True, polynomialfeatures__degree=4;, score=-16.548 total time=   0.1s\n",
      "[CV 2/7] END linearregression__fit_intercept=True, linearregression__normalize=True, polynomialfeatures__degree=4;, score=-40.801 total time=   0.0s\n",
      "[CV 3/7] END linearregression__fit_intercept=True, linearregression__normalize=True, polynomialfeatures__degree=4;, score=-7.449 total time=   0.0s\n",
      "[CV 4/7] END linearregression__fit_intercept=True, linearregression__normalize=True, polynomialfeatures__degree=4;, score=-11.327 total time=   0.0s\n",
      "[CV 5/7] END linearregression__fit_intercept=True, linearregression__normalize=True, polynomialfeatures__degree=4;, score=-11.191 total time=   0.0s\n",
      "[CV 6/7] END linearregression__fit_intercept=True, linearregression__normalize=True, polynomialfeatures__degree=4;, score=-14.090 total time=   0.0s\n",
      "[CV 7/7] END linearregression__fit_intercept=True, linearregression__normalize=True, polynomialfeatures__degree=4;, score=-17.263 total time=   0.0s\n",
      "[CV 1/7] END linearregression__fit_intercept=True, linearregression__normalize=True, polynomialfeatures__degree=5;, score=-13.237 total time=   0.0s\n",
      "[CV 2/7] END linearregression__fit_intercept=True, linearregression__normalize=True, polynomialfeatures__degree=5;, score=-65.448 total time=   0.0s\n",
      "[CV 3/7] END linearregression__fit_intercept=True, linearregression__normalize=True, polynomialfeatures__degree=5;, score=-4.676 total time=   0.0s\n",
      "[CV 4/7] END linearregression__fit_intercept=True, linearregression__normalize=True, polynomialfeatures__degree=5;, score=-10.355 total time=   0.0s\n",
      "[CV 5/7] END linearregression__fit_intercept=True, linearregression__normalize=True, polynomialfeatures__degree=5;, score=-7.090 total time=   0.0s\n",
      "[CV 6/7] END linearregression__fit_intercept=True, linearregression__normalize=True, polynomialfeatures__degree=5;, score=-4.375 total time=   0.0s\n",
      "[CV 7/7] END linearregression__fit_intercept=True, linearregression__normalize=True, polynomialfeatures__degree=5;, score=-6.813 total time=   0.0s\n",
      "[CV 1/7] END linearregression__fit_intercept=True, linearregression__normalize=True, polynomialfeatures__degree=6;, score=-13.154 total time=   0.1s\n",
      "[CV 2/7] END linearregression__fit_intercept=True, linearregression__normalize=True, polynomialfeatures__degree=6;, score=-85.393 total time=   0.1s\n",
      "[CV 3/7] END linearregression__fit_intercept=True, linearregression__normalize=True, polynomialfeatures__degree=6;, score=-4.465 total time=   0.1s\n",
      "[CV 4/7] END linearregression__fit_intercept=True, linearregression__normalize=True, polynomialfeatures__degree=6;, score=-11.148 total time=   0.2s\n",
      "[CV 5/7] END linearregression__fit_intercept=True, linearregression__normalize=True, polynomialfeatures__degree=6;, score=-8.677 total time=   0.2s\n",
      "[CV 6/7] END linearregression__fit_intercept=True, linearregression__normalize=True, polynomialfeatures__degree=6;, score=-9.522 total time=   0.2s\n",
      "[CV 7/7] END linearregression__fit_intercept=True, linearregression__normalize=True, polynomialfeatures__degree=6;, score=-10.122 total time=   0.1s\n",
      "[CV 1/7] END linearregression__fit_intercept=True, linearregression__normalize=True, polynomialfeatures__degree=7;, score=-20.656 total time=   0.4s\n",
      "[CV 2/7] END linearregression__fit_intercept=True, linearregression__normalize=True, polynomialfeatures__degree=7;, score=-223.640 total time=   0.5s\n",
      "[CV 3/7] END linearregression__fit_intercept=True, linearregression__normalize=True, polynomialfeatures__degree=7;, score=-6.099 total time=   0.4s\n",
      "[CV 4/7] END linearregression__fit_intercept=True, linearregression__normalize=True, polynomialfeatures__degree=7;, score=-12.267 total time=   0.5s\n",
      "[CV 5/7] END linearregression__fit_intercept=True, linearregression__normalize=True, polynomialfeatures__degree=7;, score=-10.042 total time=   0.4s\n",
      "[CV 6/7] END linearregression__fit_intercept=True, linearregression__normalize=True, polynomialfeatures__degree=7;, score=-28.757 total time=   0.4s\n",
      "[CV 7/7] END linearregression__fit_intercept=True, linearregression__normalize=True, polynomialfeatures__degree=7;, score=-8.967 total time=   0.4s\n",
      "[CV 1/7] END linearregression__fit_intercept=True, linearregression__normalize=True, polynomialfeatures__degree=8;, score=-25.495 total time=   1.1s\n",
      "[CV 2/7] END linearregression__fit_intercept=True, linearregression__normalize=True, polynomialfeatures__degree=8;, score=-187.149 total time=   1.1s\n",
      "[CV 3/7] END linearregression__fit_intercept=True, linearregression__normalize=True, polynomialfeatures__degree=8;, score=-5.921 total time=   1.1s\n",
      "[CV 4/7] END linearregression__fit_intercept=True, linearregression__normalize=True, polynomialfeatures__degree=8;, score=-17.689 total time=   1.2s\n",
      "[CV 5/7] END linearregression__fit_intercept=True, linearregression__normalize=True, polynomialfeatures__degree=8;, score=-12.324 total time=   1.1s\n",
      "[CV 6/7] END linearregression__fit_intercept=True, linearregression__normalize=True, polynomialfeatures__degree=8;, score=-45.308 total time=   1.1s\n"
     ]
    },
    {
     "name": "stdout",
     "output_type": "stream",
     "text": [
      "[CV 7/7] END linearregression__fit_intercept=True, linearregression__normalize=True, polynomialfeatures__degree=8;, score=-11.129 total time=   1.1s\n",
      "[CV 1/7] END linearregression__fit_intercept=True, linearregression__normalize=True, polynomialfeatures__degree=9;, score=-37.488 total time=   2.7s\n",
      "[CV 2/7] END linearregression__fit_intercept=True, linearregression__normalize=True, polynomialfeatures__degree=9;, score=-562.764 total time=   2.8s\n",
      "[CV 3/7] END linearregression__fit_intercept=True, linearregression__normalize=True, polynomialfeatures__degree=9;, score=-9.423 total time=   2.7s\n",
      "[CV 4/7] END linearregression__fit_intercept=True, linearregression__normalize=True, polynomialfeatures__degree=9;, score=-19.314 total time=   2.7s\n",
      "[CV 5/7] END linearregression__fit_intercept=True, linearregression__normalize=True, polynomialfeatures__degree=9;, score=-15.504 total time=   2.8s\n",
      "[CV 6/7] END linearregression__fit_intercept=True, linearregression__normalize=True, polynomialfeatures__degree=9;, score=-139.256 total time=   2.7s\n",
      "[CV 7/7] END linearregression__fit_intercept=True, linearregression__normalize=True, polynomialfeatures__degree=9;, score=-10.595 total time=   2.6s\n",
      "[CV 1/7] END linearregression__fit_intercept=True, linearregression__normalize=False, polynomialfeatures__degree=1;, score=0.420 total time=   0.0s\n",
      "[CV 2/7] END linearregression__fit_intercept=True, linearregression__normalize=False, polynomialfeatures__degree=1;, score=0.344 total time=   0.0s\n",
      "[CV 3/7] END linearregression__fit_intercept=True, linearregression__normalize=False, polynomialfeatures__degree=1;, score=0.587 total time=   0.0s\n",
      "[CV 4/7] END linearregression__fit_intercept=True, linearregression__normalize=False, polynomialfeatures__degree=1;, score=0.340 total time=   0.0s\n",
      "[CV 5/7] END linearregression__fit_intercept=True, linearregression__normalize=False, polynomialfeatures__degree=1;, score=0.540 total time=   0.0s\n",
      "[CV 6/7] END linearregression__fit_intercept=True, linearregression__normalize=False, polynomialfeatures__degree=1;, score=0.572 total time=   0.0s\n",
      "[CV 7/7] END linearregression__fit_intercept=True, linearregression__normalize=False, polynomialfeatures__degree=1;, score=0.535 total time=   0.0s\n",
      "[CV 1/7] END linearregression__fit_intercept=True, linearregression__normalize=False, polynomialfeatures__degree=2;, score=0.425 total time=   0.0s\n",
      "[CV 2/7] END linearregression__fit_intercept=True, linearregression__normalize=False, polynomialfeatures__degree=2;, score=-0.308 total time=   0.0s\n",
      "[CV 3/7] END linearregression__fit_intercept=True, linearregression__normalize=False, polynomialfeatures__degree=2;, score=-0.556 total time=   0.0s\n",
      "[CV 4/7] END linearregression__fit_intercept=True, linearregression__normalize=False, polynomialfeatures__degree=2;, score=-0.276 total time=   0.0s\n",
      "[CV 5/7] END linearregression__fit_intercept=True, linearregression__normalize=False, polynomialfeatures__degree=2;, score=-4.169 total time=   0.0s\n",
      "[CV 6/7] END linearregression__fit_intercept=True, linearregression__normalize=False, polynomialfeatures__degree=2;, score=0.060 total time=   0.0s\n",
      "[CV 7/7] END linearregression__fit_intercept=True, linearregression__normalize=False, polynomialfeatures__degree=2;, score=-0.904 total time=   0.0s\n",
      "[CV 1/7] END linearregression__fit_intercept=True, linearregression__normalize=False, polynomialfeatures__degree=3;, score=-18008.348 total time=   0.0s\n",
      "[CV 2/7] END linearregression__fit_intercept=True, linearregression__normalize=False, polynomialfeatures__degree=3;, score=-46.136 total time=   0.0s\n",
      "[CV 3/7] END linearregression__fit_intercept=True, linearregression__normalize=False, polynomialfeatures__degree=3;, score=-91.990 total time=   0.0s\n",
      "[CV 4/7] END linearregression__fit_intercept=True, linearregression__normalize=False, polynomialfeatures__degree=3;, score=-9068.842 total time=   0.0s\n",
      "[CV 5/7] END linearregression__fit_intercept=True, linearregression__normalize=False, polynomialfeatures__degree=3;, score=-82.258 total time=   0.0s\n",
      "[CV 6/7] END linearregression__fit_intercept=True, linearregression__normalize=False, polynomialfeatures__degree=3;, score=-62.761 total time=   0.0s\n",
      "[CV 7/7] END linearregression__fit_intercept=True, linearregression__normalize=False, polynomialfeatures__degree=3;, score=-67.647 total time=   0.0s\n",
      "[CV 1/7] END linearregression__fit_intercept=True, linearregression__normalize=False, polynomialfeatures__degree=4;, score=-39.068 total time=   0.0s\n",
      "[CV 2/7] END linearregression__fit_intercept=True, linearregression__normalize=False, polynomialfeatures__degree=4;, score=-35.372 total time=   0.0s\n",
      "[CV 3/7] END linearregression__fit_intercept=True, linearregression__normalize=False, polynomialfeatures__degree=4;, score=-9.398 total time=   0.0s\n",
      "[CV 4/7] END linearregression__fit_intercept=True, linearregression__normalize=False, polynomialfeatures__degree=4;, score=-20.844 total time=   0.0s\n",
      "[CV 5/7] END linearregression__fit_intercept=True, linearregression__normalize=False, polynomialfeatures__degree=4;, score=-17.091 total time=   0.0s\n",
      "[CV 6/7] END linearregression__fit_intercept=True, linearregression__normalize=False, polynomialfeatures__degree=4;, score=-30.902 total time=   0.0s\n",
      "[CV 7/7] END linearregression__fit_intercept=True, linearregression__normalize=False, polynomialfeatures__degree=4;, score=-17.456 total time=   0.0s\n",
      "[CV 1/7] END linearregression__fit_intercept=True, linearregression__normalize=False, polynomialfeatures__degree=5;, score=-37.775 total time=   0.0s\n",
      "[CV 2/7] END linearregression__fit_intercept=True, linearregression__normalize=False, polynomialfeatures__degree=5;, score=-31.026 total time=   0.0s\n",
      "[CV 3/7] END linearregression__fit_intercept=True, linearregression__normalize=False, polynomialfeatures__degree=5;, score=-8.739 total time=   0.0s\n",
      "[CV 4/7] END linearregression__fit_intercept=True, linearregression__normalize=False, polynomialfeatures__degree=5;, score=-18.387 total time=   0.0s\n",
      "[CV 5/7] END linearregression__fit_intercept=True, linearregression__normalize=False, polynomialfeatures__degree=5;, score=-16.189 total time=   0.0s\n",
      "[CV 6/7] END linearregression__fit_intercept=True, linearregression__normalize=False, polynomialfeatures__degree=5;, score=-28.842 total time=   0.0s\n",
      "[CV 7/7] END linearregression__fit_intercept=True, linearregression__normalize=False, polynomialfeatures__degree=5;, score=-16.314 total time=   0.0s\n",
      "[CV 1/7] END linearregression__fit_intercept=True, linearregression__normalize=False, polynomialfeatures__degree=6;, score=-37.767 total time=   0.1s\n",
      "[CV 2/7] END linearregression__fit_intercept=True, linearregression__normalize=False, polynomialfeatures__degree=6;, score=-30.990 total time=   0.1s\n",
      "[CV 3/7] END linearregression__fit_intercept=True, linearregression__normalize=False, polynomialfeatures__degree=6;, score=-8.737 total time=   0.1s\n",
      "[CV 4/7] END linearregression__fit_intercept=True, linearregression__normalize=False, polynomialfeatures__degree=6;, score=-18.380 total time=   0.1s\n",
      "[CV 5/7] END linearregression__fit_intercept=True, linearregression__normalize=False, polynomialfeatures__degree=6;, score=-16.191 total time=   0.1s\n",
      "[CV 6/7] END linearregression__fit_intercept=True, linearregression__normalize=False, polynomialfeatures__degree=6;, score=-28.833 total time=   0.1s\n",
      "[CV 7/7] END linearregression__fit_intercept=True, linearregression__normalize=False, polynomialfeatures__degree=6;, score=-16.318 total time=   0.1s\n",
      "[CV 1/7] END linearregression__fit_intercept=True, linearregression__normalize=False, polynomialfeatures__degree=7;, score=-37.767 total time=   0.5s\n",
      "[CV 2/7] END linearregression__fit_intercept=True, linearregression__normalize=False, polynomialfeatures__degree=7;, score=-30.988 total time=   0.4s\n",
      "[CV 3/7] END linearregression__fit_intercept=True, linearregression__normalize=False, polynomialfeatures__degree=7;, score=-8.737 total time=   0.4s\n",
      "[CV 4/7] END linearregression__fit_intercept=True, linearregression__normalize=False, polynomialfeatures__degree=7;, score=-18.378 total time=   0.4s\n",
      "[CV 5/7] END linearregression__fit_intercept=True, linearregression__normalize=False, polynomialfeatures__degree=7;, score=-16.192 total time=   0.4s\n"
     ]
    },
    {
     "name": "stdout",
     "output_type": "stream",
     "text": [
      "[CV 6/7] END linearregression__fit_intercept=True, linearregression__normalize=False, polynomialfeatures__degree=7;, score=-28.832 total time=   0.4s\n",
      "[CV 7/7] END linearregression__fit_intercept=True, linearregression__normalize=False, polynomialfeatures__degree=7;, score=-16.318 total time=   0.4s\n",
      "[CV 1/7] END linearregression__fit_intercept=True, linearregression__normalize=False, polynomialfeatures__degree=8;, score=-37.762 total time=   1.0s\n",
      "[CV 2/7] END linearregression__fit_intercept=True, linearregression__normalize=False, polynomialfeatures__degree=8;, score=-30.989 total time=   1.1s\n",
      "[CV 3/7] END linearregression__fit_intercept=True, linearregression__normalize=False, polynomialfeatures__degree=8;, score=-8.737 total time=   1.1s\n",
      "[CV 4/7] END linearregression__fit_intercept=True, linearregression__normalize=False, polynomialfeatures__degree=8;, score=-18.378 total time=   1.0s\n",
      "[CV 5/7] END linearregression__fit_intercept=True, linearregression__normalize=False, polynomialfeatures__degree=8;, score=-16.191 total time=   1.1s\n",
      "[CV 6/7] END linearregression__fit_intercept=True, linearregression__normalize=False, polynomialfeatures__degree=8;, score=-28.832 total time=   1.1s\n",
      "[CV 7/7] END linearregression__fit_intercept=True, linearregression__normalize=False, polynomialfeatures__degree=8;, score=-16.318 total time=   1.0s\n",
      "[CV 1/7] END linearregression__fit_intercept=True, linearregression__normalize=False, polynomialfeatures__degree=9;, score=-37.710 total time=   2.5s\n",
      "[CV 2/7] END linearregression__fit_intercept=True, linearregression__normalize=False, polynomialfeatures__degree=9;, score=-30.986 total time=   2.7s\n",
      "[CV 3/7] END linearregression__fit_intercept=True, linearregression__normalize=False, polynomialfeatures__degree=9;, score=-8.737 total time=   2.5s\n",
      "[CV 4/7] END linearregression__fit_intercept=True, linearregression__normalize=False, polynomialfeatures__degree=9;, score=-18.378 total time=   2.5s\n",
      "[CV 5/7] END linearregression__fit_intercept=True, linearregression__normalize=False, polynomialfeatures__degree=9;, score=-16.191 total time=   2.5s\n",
      "[CV 6/7] END linearregression__fit_intercept=True, linearregression__normalize=False, polynomialfeatures__degree=9;, score=-28.832 total time=   2.5s\n",
      "[CV 7/7] END linearregression__fit_intercept=True, linearregression__normalize=False, polynomialfeatures__degree=9;, score=-16.318 total time=   2.5s\n",
      "[CV 1/7] END linearregression__fit_intercept=False, linearregression__normalize=True, polynomialfeatures__degree=1;, score=0.420 total time=   0.0s\n",
      "[CV 2/7] END linearregression__fit_intercept=False, linearregression__normalize=True, polynomialfeatures__degree=1;, score=0.344 total time=   0.0s\n",
      "[CV 3/7] END linearregression__fit_intercept=False, linearregression__normalize=True, polynomialfeatures__degree=1;, score=0.587 total time=   0.0s\n",
      "[CV 4/7] END linearregression__fit_intercept=False, linearregression__normalize=True, polynomialfeatures__degree=1;, score=0.340 total time=   0.0s\n",
      "[CV 5/7] END linearregression__fit_intercept=False, linearregression__normalize=True, polynomialfeatures__degree=1;, score=0.540 total time=   0.0s\n",
      "[CV 6/7] END linearregression__fit_intercept=False, linearregression__normalize=True, polynomialfeatures__degree=1;, score=0.572 total time=   0.0s\n",
      "[CV 7/7] END linearregression__fit_intercept=False, linearregression__normalize=True, polynomialfeatures__degree=1;, score=0.535 total time=   0.0s\n",
      "[CV 1/7] END linearregression__fit_intercept=False, linearregression__normalize=True, polynomialfeatures__degree=2;, score=0.425 total time=   0.0s\n",
      "[CV 2/7] END linearregression__fit_intercept=False, linearregression__normalize=True, polynomialfeatures__degree=2;, score=0.301 total time=   0.0s\n",
      "[CV 3/7] END linearregression__fit_intercept=False, linearregression__normalize=True, polynomialfeatures__degree=2;, score=0.504 total time=   0.0s\n",
      "[CV 4/7] END linearregression__fit_intercept=False, linearregression__normalize=True, polynomialfeatures__degree=2;, score=0.209 total time=   0.0s\n",
      "[CV 5/7] END linearregression__fit_intercept=False, linearregression__normalize=True, polynomialfeatures__degree=2;, score=0.218 total time=   0.0s\n",
      "[CV 6/7] END linearregression__fit_intercept=False, linearregression__normalize=True, polynomialfeatures__degree=2;, score=0.502 total time=   0.0s\n",
      "[CV 7/7] END linearregression__fit_intercept=False, linearregression__normalize=True, polynomialfeatures__degree=2;, score=0.512 total time=   0.0s\n",
      "[CV 1/7] END linearregression__fit_intercept=False, linearregression__normalize=True, polynomialfeatures__degree=3;, score=-22323.087 total time=   0.0s\n",
      "[CV 2/7] END linearregression__fit_intercept=False, linearregression__normalize=True, polynomialfeatures__degree=3;, score=-44.554 total time=   0.0s\n",
      "[CV 3/7] END linearregression__fit_intercept=False, linearregression__normalize=True, polynomialfeatures__degree=3;, score=-78.165 total time=   0.0s\n",
      "[CV 4/7] END linearregression__fit_intercept=False, linearregression__normalize=True, polynomialfeatures__degree=3;, score=-7569.077 total time=   0.0s\n",
      "[CV 5/7] END linearregression__fit_intercept=False, linearregression__normalize=True, polynomialfeatures__degree=3;, score=-40.742 total time=   0.0s\n",
      "[CV 6/7] END linearregression__fit_intercept=False, linearregression__normalize=True, polynomialfeatures__degree=3;, score=-62.723 total time=   0.0s\n",
      "[CV 7/7] END linearregression__fit_intercept=False, linearregression__normalize=True, polynomialfeatures__degree=3;, score=-68.610 total time=   0.0s\n",
      "[CV 1/7] END linearregression__fit_intercept=False, linearregression__normalize=True, polynomialfeatures__degree=4;, score=-39.068 total time=   0.0s\n",
      "[CV 2/7] END linearregression__fit_intercept=False, linearregression__normalize=True, polynomialfeatures__degree=4;, score=-35.372 total time=   0.0s\n",
      "[CV 3/7] END linearregression__fit_intercept=False, linearregression__normalize=True, polynomialfeatures__degree=4;, score=-9.398 total time=   0.0s\n",
      "[CV 4/7] END linearregression__fit_intercept=False, linearregression__normalize=True, polynomialfeatures__degree=4;, score=-20.844 total time=   0.0s\n",
      "[CV 5/7] END linearregression__fit_intercept=False, linearregression__normalize=True, polynomialfeatures__degree=4;, score=-17.091 total time=   0.0s\n",
      "[CV 6/7] END linearregression__fit_intercept=False, linearregression__normalize=True, polynomialfeatures__degree=4;, score=-30.902 total time=   0.0s\n",
      "[CV 7/7] END linearregression__fit_intercept=False, linearregression__normalize=True, polynomialfeatures__degree=4;, score=-17.456 total time=   0.0s\n",
      "[CV 1/7] END linearregression__fit_intercept=False, linearregression__normalize=True, polynomialfeatures__degree=5;, score=-37.775 total time=   0.0s\n",
      "[CV 2/7] END linearregression__fit_intercept=False, linearregression__normalize=True, polynomialfeatures__degree=5;, score=-31.026 total time=   0.0s\n",
      "[CV 3/7] END linearregression__fit_intercept=False, linearregression__normalize=True, polynomialfeatures__degree=5;, score=-8.739 total time=   0.0s\n",
      "[CV 4/7] END linearregression__fit_intercept=False, linearregression__normalize=True, polynomialfeatures__degree=5;, score=-18.387 total time=   0.0s\n",
      "[CV 5/7] END linearregression__fit_intercept=False, linearregression__normalize=True, polynomialfeatures__degree=5;, score=-16.189 total time=   0.0s\n",
      "[CV 6/7] END linearregression__fit_intercept=False, linearregression__normalize=True, polynomialfeatures__degree=5;, score=-28.842 total time=   0.0s\n",
      "[CV 7/7] END linearregression__fit_intercept=False, linearregression__normalize=True, polynomialfeatures__degree=5;, score=-16.314 total time=   0.0s\n",
      "[CV 1/7] END linearregression__fit_intercept=False, linearregression__normalize=True, polynomialfeatures__degree=6;, score=-37.767 total time=   0.1s\n",
      "[CV 2/7] END linearregression__fit_intercept=False, linearregression__normalize=True, polynomialfeatures__degree=6;, score=-30.990 total time=   0.1s\n",
      "[CV 3/7] END linearregression__fit_intercept=False, linearregression__normalize=True, polynomialfeatures__degree=6;, score=-8.737 total time=   0.1s\n",
      "[CV 4/7] END linearregression__fit_intercept=False, linearregression__normalize=True, polynomialfeatures__degree=6;, score=-18.380 total time=   0.1s\n"
     ]
    },
    {
     "name": "stdout",
     "output_type": "stream",
     "text": [
      "[CV 5/7] END linearregression__fit_intercept=False, linearregression__normalize=True, polynomialfeatures__degree=6;, score=-16.191 total time=   0.1s\n",
      "[CV 6/7] END linearregression__fit_intercept=False, linearregression__normalize=True, polynomialfeatures__degree=6;, score=-28.833 total time=   0.1s\n",
      "[CV 7/7] END linearregression__fit_intercept=False, linearregression__normalize=True, polynomialfeatures__degree=6;, score=-16.318 total time=   0.1s\n",
      "[CV 1/7] END linearregression__fit_intercept=False, linearregression__normalize=True, polynomialfeatures__degree=7;, score=-37.767 total time=   0.4s\n",
      "[CV 2/7] END linearregression__fit_intercept=False, linearregression__normalize=True, polynomialfeatures__degree=7;, score=-30.988 total time=   0.4s\n",
      "[CV 3/7] END linearregression__fit_intercept=False, linearregression__normalize=True, polynomialfeatures__degree=7;, score=-8.737 total time=   0.3s\n",
      "[CV 4/7] END linearregression__fit_intercept=False, linearregression__normalize=True, polynomialfeatures__degree=7;, score=-18.378 total time=   0.4s\n",
      "[CV 5/7] END linearregression__fit_intercept=False, linearregression__normalize=True, polynomialfeatures__degree=7;, score=-16.192 total time=   0.4s\n",
      "[CV 6/7] END linearregression__fit_intercept=False, linearregression__normalize=True, polynomialfeatures__degree=7;, score=-28.832 total time=   0.4s\n",
      "[CV 7/7] END linearregression__fit_intercept=False, linearregression__normalize=True, polynomialfeatures__degree=7;, score=-16.318 total time=   0.4s\n",
      "[CV 1/7] END linearregression__fit_intercept=False, linearregression__normalize=True, polynomialfeatures__degree=8;, score=-37.767 total time=   1.0s\n",
      "[CV 2/7] END linearregression__fit_intercept=False, linearregression__normalize=True, polynomialfeatures__degree=8;, score=-30.988 total time=   1.1s\n",
      "[CV 3/7] END linearregression__fit_intercept=False, linearregression__normalize=True, polynomialfeatures__degree=8;, score=-8.737 total time=   1.0s\n",
      "[CV 4/7] END linearregression__fit_intercept=False, linearregression__normalize=True, polynomialfeatures__degree=8;, score=-18.378 total time=   1.0s\n",
      "[CV 5/7] END linearregression__fit_intercept=False, linearregression__normalize=True, polynomialfeatures__degree=8;, score=-16.192 total time=   1.0s\n",
      "[CV 6/7] END linearregression__fit_intercept=False, linearregression__normalize=True, polynomialfeatures__degree=8;, score=-28.832 total time=   1.0s\n",
      "[CV 7/7] END linearregression__fit_intercept=False, linearregression__normalize=True, polynomialfeatures__degree=8;, score=-16.318 total time=   1.0s\n",
      "[CV 1/7] END linearregression__fit_intercept=False, linearregression__normalize=True, polynomialfeatures__degree=9;, score=-37.767 total time=   2.5s\n",
      "[CV 2/7] END linearregression__fit_intercept=False, linearregression__normalize=True, polynomialfeatures__degree=9;, score=-30.988 total time=   2.5s\n",
      "[CV 3/7] END linearregression__fit_intercept=False, linearregression__normalize=True, polynomialfeatures__degree=9;, score=-8.737 total time=   2.5s\n",
      "[CV 4/7] END linearregression__fit_intercept=False, linearregression__normalize=True, polynomialfeatures__degree=9;, score=-18.378 total time=   2.7s\n",
      "[CV 5/7] END linearregression__fit_intercept=False, linearregression__normalize=True, polynomialfeatures__degree=9;, score=-16.192 total time=   2.5s\n",
      "[CV 6/7] END linearregression__fit_intercept=False, linearregression__normalize=True, polynomialfeatures__degree=9;, score=-28.832 total time=   2.5s\n",
      "[CV 7/7] END linearregression__fit_intercept=False, linearregression__normalize=True, polynomialfeatures__degree=9;, score=-16.318 total time=   2.6s\n",
      "[CV 1/7] END linearregression__fit_intercept=False, linearregression__normalize=False, polynomialfeatures__degree=1;, score=0.420 total time=   0.0s\n",
      "[CV 2/7] END linearregression__fit_intercept=False, linearregression__normalize=False, polynomialfeatures__degree=1;, score=0.344 total time=   0.0s\n",
      "[CV 3/7] END linearregression__fit_intercept=False, linearregression__normalize=False, polynomialfeatures__degree=1;, score=0.587 total time=   0.0s\n",
      "[CV 4/7] END linearregression__fit_intercept=False, linearregression__normalize=False, polynomialfeatures__degree=1;, score=0.340 total time=   0.0s\n",
      "[CV 5/7] END linearregression__fit_intercept=False, linearregression__normalize=False, polynomialfeatures__degree=1;, score=0.540 total time=   0.0s\n",
      "[CV 6/7] END linearregression__fit_intercept=False, linearregression__normalize=False, polynomialfeatures__degree=1;, score=0.572 total time=   0.0s\n",
      "[CV 7/7] END linearregression__fit_intercept=False, linearregression__normalize=False, polynomialfeatures__degree=1;, score=0.535 total time=   0.0s\n",
      "[CV 1/7] END linearregression__fit_intercept=False, linearregression__normalize=False, polynomialfeatures__degree=2;, score=0.425 total time=   0.0s\n",
      "[CV 2/7] END linearregression__fit_intercept=False, linearregression__normalize=False, polynomialfeatures__degree=2;, score=0.301 total time=   0.0s\n",
      "[CV 3/7] END linearregression__fit_intercept=False, linearregression__normalize=False, polynomialfeatures__degree=2;, score=0.504 total time=   0.0s\n",
      "[CV 4/7] END linearregression__fit_intercept=False, linearregression__normalize=False, polynomialfeatures__degree=2;, score=0.209 total time=   0.0s\n",
      "[CV 5/7] END linearregression__fit_intercept=False, linearregression__normalize=False, polynomialfeatures__degree=2;, score=0.218 total time=   0.0s\n",
      "[CV 6/7] END linearregression__fit_intercept=False, linearregression__normalize=False, polynomialfeatures__degree=2;, score=0.502 total time=   0.0s\n",
      "[CV 7/7] END linearregression__fit_intercept=False, linearregression__normalize=False, polynomialfeatures__degree=2;, score=0.512 total time=   0.0s\n",
      "[CV 1/7] END linearregression__fit_intercept=False, linearregression__normalize=False, polynomialfeatures__degree=3;, score=-22323.087 total time=   0.0s\n",
      "[CV 2/7] END linearregression__fit_intercept=False, linearregression__normalize=False, polynomialfeatures__degree=3;, score=-44.554 total time=   0.0s\n",
      "[CV 3/7] END linearregression__fit_intercept=False, linearregression__normalize=False, polynomialfeatures__degree=3;, score=-78.165 total time=   0.0s\n",
      "[CV 4/7] END linearregression__fit_intercept=False, linearregression__normalize=False, polynomialfeatures__degree=3;, score=-7569.077 total time=   0.0s\n",
      "[CV 5/7] END linearregression__fit_intercept=False, linearregression__normalize=False, polynomialfeatures__degree=3;, score=-40.742 total time=   0.0s\n",
      "[CV 6/7] END linearregression__fit_intercept=False, linearregression__normalize=False, polynomialfeatures__degree=3;, score=-62.723 total time=   0.0s\n",
      "[CV 7/7] END linearregression__fit_intercept=False, linearregression__normalize=False, polynomialfeatures__degree=3;, score=-68.610 total time=   0.0s\n",
      "[CV 1/7] END linearregression__fit_intercept=False, linearregression__normalize=False, polynomialfeatures__degree=4;, score=-39.068 total time=   0.0s\n",
      "[CV 2/7] END linearregression__fit_intercept=False, linearregression__normalize=False, polynomialfeatures__degree=4;, score=-35.372 total time=   0.0s\n",
      "[CV 3/7] END linearregression__fit_intercept=False, linearregression__normalize=False, polynomialfeatures__degree=4;, score=-9.398 total time=   0.0s\n",
      "[CV 4/7] END linearregression__fit_intercept=False, linearregression__normalize=False, polynomialfeatures__degree=4;, score=-20.844 total time=   0.0s\n",
      "[CV 5/7] END linearregression__fit_intercept=False, linearregression__normalize=False, polynomialfeatures__degree=4;, score=-17.091 total time=   0.0s\n",
      "[CV 6/7] END linearregression__fit_intercept=False, linearregression__normalize=False, polynomialfeatures__degree=4;, score=-30.902 total time=   0.0s\n",
      "[CV 7/7] END linearregression__fit_intercept=False, linearregression__normalize=False, polynomialfeatures__degree=4;, score=-17.456 total time=   0.0s\n",
      "[CV 1/7] END linearregression__fit_intercept=False, linearregression__normalize=False, polynomialfeatures__degree=5;, score=-37.775 total time=   0.0s\n",
      "[CV 2/7] END linearregression__fit_intercept=False, linearregression__normalize=False, polynomialfeatures__degree=5;, score=-31.026 total time=   0.0s\n",
      "[CV 3/7] END linearregression__fit_intercept=False, linearregression__normalize=False, polynomialfeatures__degree=5;, score=-8.739 total time=   0.0s\n"
     ]
    },
    {
     "name": "stdout",
     "output_type": "stream",
     "text": [
      "[CV 4/7] END linearregression__fit_intercept=False, linearregression__normalize=False, polynomialfeatures__degree=5;, score=-18.387 total time=   0.0s\n",
      "[CV 5/7] END linearregression__fit_intercept=False, linearregression__normalize=False, polynomialfeatures__degree=5;, score=-16.189 total time=   0.0s\n",
      "[CV 6/7] END linearregression__fit_intercept=False, linearregression__normalize=False, polynomialfeatures__degree=5;, score=-28.842 total time=   0.0s\n",
      "[CV 7/7] END linearregression__fit_intercept=False, linearregression__normalize=False, polynomialfeatures__degree=5;, score=-16.314 total time=   0.0s\n",
      "[CV 1/7] END linearregression__fit_intercept=False, linearregression__normalize=False, polynomialfeatures__degree=6;, score=-37.767 total time=   0.1s\n",
      "[CV 2/7] END linearregression__fit_intercept=False, linearregression__normalize=False, polynomialfeatures__degree=6;, score=-30.990 total time=   0.1s\n",
      "[CV 3/7] END linearregression__fit_intercept=False, linearregression__normalize=False, polynomialfeatures__degree=6;, score=-8.737 total time=   0.1s\n",
      "[CV 4/7] END linearregression__fit_intercept=False, linearregression__normalize=False, polynomialfeatures__degree=6;, score=-18.380 total time=   0.1s\n",
      "[CV 5/7] END linearregression__fit_intercept=False, linearregression__normalize=False, polynomialfeatures__degree=6;, score=-16.191 total time=   0.1s\n",
      "[CV 6/7] END linearregression__fit_intercept=False, linearregression__normalize=False, polynomialfeatures__degree=6;, score=-28.833 total time=   0.1s\n",
      "[CV 7/7] END linearregression__fit_intercept=False, linearregression__normalize=False, polynomialfeatures__degree=6;, score=-16.318 total time=   0.1s\n",
      "[CV 1/7] END linearregression__fit_intercept=False, linearregression__normalize=False, polynomialfeatures__degree=7;, score=-37.767 total time=   0.4s\n",
      "[CV 2/7] END linearregression__fit_intercept=False, linearregression__normalize=False, polynomialfeatures__degree=7;, score=-30.988 total time=   0.4s\n",
      "[CV 3/7] END linearregression__fit_intercept=False, linearregression__normalize=False, polynomialfeatures__degree=7;, score=-8.737 total time=   0.3s\n",
      "[CV 4/7] END linearregression__fit_intercept=False, linearregression__normalize=False, polynomialfeatures__degree=7;, score=-18.378 total time=   0.4s\n",
      "[CV 5/7] END linearregression__fit_intercept=False, linearregression__normalize=False, polynomialfeatures__degree=7;, score=-16.192 total time=   0.4s\n",
      "[CV 6/7] END linearregression__fit_intercept=False, linearregression__normalize=False, polynomialfeatures__degree=7;, score=-28.832 total time=   0.5s\n",
      "[CV 7/7] END linearregression__fit_intercept=False, linearregression__normalize=False, polynomialfeatures__degree=7;, score=-16.318 total time=   0.5s\n",
      "[CV 1/7] END linearregression__fit_intercept=False, linearregression__normalize=False, polynomialfeatures__degree=8;, score=-37.767 total time=   1.3s\n",
      "[CV 2/7] END linearregression__fit_intercept=False, linearregression__normalize=False, polynomialfeatures__degree=8;, score=-30.988 total time=   1.3s\n",
      "[CV 3/7] END linearregression__fit_intercept=False, linearregression__normalize=False, polynomialfeatures__degree=8;, score=-8.737 total time=   1.3s\n",
      "[CV 4/7] END linearregression__fit_intercept=False, linearregression__normalize=False, polynomialfeatures__degree=8;, score=-18.378 total time=   1.1s\n",
      "[CV 5/7] END linearregression__fit_intercept=False, linearregression__normalize=False, polynomialfeatures__degree=8;, score=-16.192 total time=   1.1s\n",
      "[CV 6/7] END linearregression__fit_intercept=False, linearregression__normalize=False, polynomialfeatures__degree=8;, score=-28.832 total time=   1.1s\n",
      "[CV 7/7] END linearregression__fit_intercept=False, linearregression__normalize=False, polynomialfeatures__degree=8;, score=-16.318 total time=   1.0s\n",
      "[CV 1/7] END linearregression__fit_intercept=False, linearregression__normalize=False, polynomialfeatures__degree=9;, score=-37.767 total time=   2.5s\n",
      "[CV 2/7] END linearregression__fit_intercept=False, linearregression__normalize=False, polynomialfeatures__degree=9;, score=-30.988 total time=   2.4s\n",
      "[CV 3/7] END linearregression__fit_intercept=False, linearregression__normalize=False, polynomialfeatures__degree=9;, score=-8.737 total time=   2.6s\n",
      "[CV 4/7] END linearregression__fit_intercept=False, linearregression__normalize=False, polynomialfeatures__degree=9;, score=-18.378 total time=   2.5s\n",
      "[CV 5/7] END linearregression__fit_intercept=False, linearregression__normalize=False, polynomialfeatures__degree=9;, score=-16.192 total time=   2.6s\n",
      "[CV 6/7] END linearregression__fit_intercept=False, linearregression__normalize=False, polynomialfeatures__degree=9;, score=-28.832 total time=   2.5s\n",
      "[CV 7/7] END linearregression__fit_intercept=False, linearregression__normalize=False, polynomialfeatures__degree=9;, score=-16.318 total time=   2.7s\n"
     ]
    },
    {
     "data": {
      "text/plain": [
       "GridSearchCV(cv=7,\n",
       "             estimator=Pipeline(steps=[('polynomialfeatures',\n",
       "                                        PolynomialFeatures()),\n",
       "                                       ('linearregression',\n",
       "                                        LinearRegression())]),\n",
       "             param_grid={'linearregression__fit_intercept': [True, False],\n",
       "                         'linearregression__normalize': [True, False],\n",
       "                         'polynomialfeatures__degree': array([1, 2, 3, 4, 5, 6, 7, 8, 9])},\n",
       "             verbose=3)"
      ]
     },
     "execution_count": 45,
     "metadata": {},
     "output_type": "execute_result"
    }
   ],
   "source": [
    "grid.fit(x_train, y_train)"
   ]
  },
  {
   "cell_type": "code",
   "execution_count": 46,
   "id": "9897505a",
   "metadata": {},
   "outputs": [
    {
     "data": {
      "text/plain": [
       "{'linearregression__fit_intercept': True,\n",
       " 'linearregression__normalize': False,\n",
       " 'polynomialfeatures__degree': 1}"
      ]
     },
     "execution_count": 46,
     "metadata": {},
     "output_type": "execute_result"
    }
   ],
   "source": [
    "grid.best_params_"
   ]
  },
  {
   "cell_type": "code",
   "execution_count": 47,
   "id": "09fbaf37",
   "metadata": {},
   "outputs": [
    {
     "data": {
      "text/plain": [
       "0.4768863974833785"
      ]
     },
     "execution_count": 47,
     "metadata": {},
     "output_type": "execute_result"
    }
   ],
   "source": [
    "grid.best_score_"
   ]
  },
  {
   "cell_type": "markdown",
   "id": "137daa99",
   "metadata": {},
   "source": [
    "#### learning"
   ]
  },
  {
   "cell_type": "code",
   "execution_count": 48,
   "id": "a97a992c",
   "metadata": {},
   "outputs": [],
   "source": [
    "reg = PolynomialRegression(degree=grid.best_params_['polynomialfeatures__degree'], \\\n",
    "                           fit_intercept=grid.best_params_['linearregression__fit_intercept'], \\\n",
    "                          normalize=grid.best_params_['linearregression__normalize'])"
   ]
  },
  {
   "cell_type": "code",
   "execution_count": 49,
   "id": "387731a9",
   "metadata": {},
   "outputs": [
    {
     "data": {
      "text/plain": [
       "Pipeline(steps=[('polynomialfeatures', PolynomialFeatures(degree=1)),\n",
       "                ('linearregression', LinearRegression())])"
      ]
     },
     "execution_count": 49,
     "metadata": {},
     "output_type": "execute_result"
    }
   ],
   "source": [
    "reg.fit(x_train, y_train)"
   ]
  },
  {
   "cell_type": "markdown",
   "id": "e292324b",
   "metadata": {},
   "source": [
    "#### score"
   ]
  },
  {
   "cell_type": "code",
   "execution_count": 50,
   "id": "1ef0cd01",
   "metadata": {},
   "outputs": [],
   "source": [
    "y_pred = reg.predict(x_test)"
   ]
  },
  {
   "cell_type": "code",
   "execution_count": 51,
   "id": "c39d3cfb",
   "metadata": {},
   "outputs": [
    {
     "data": {
      "text/plain": [
       "(0.4407260889108393, 2992.557681452943, 0.43843604017332716)"
      ]
     },
     "execution_count": 51,
     "metadata": {},
     "output_type": "execute_result"
    }
   ],
   "source": [
    "explained_variance_score(y_test, y_pred), mean_squared_error(y_test, y_pred), r2_score(y_test, y_pred)"
   ]
  },
  {
   "cell_type": "markdown",
   "id": "86db271b",
   "metadata": {},
   "source": [
    "## Unsupervised learning"
   ]
  }
 ],
 "metadata": {
  "kernelspec": {
   "display_name": "Python 3 (ipykernel)",
   "language": "python",
   "name": "python3"
  },
  "language_info": {
   "codemirror_mode": {
    "name": "ipython",
    "version": 3
   },
   "file_extension": ".py",
   "mimetype": "text/x-python",
   "name": "python",
   "nbconvert_exporter": "python",
   "pygments_lexer": "ipython3",
   "version": "3.9.6"
  }
 },
 "nbformat": 4,
 "nbformat_minor": 5
}
